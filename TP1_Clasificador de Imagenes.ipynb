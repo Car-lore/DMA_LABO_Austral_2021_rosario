{
  "nbformat": 4,
  "nbformat_minor": 0,
  "metadata": {
    "kernelspec": {
      "display_name": "Python 3",
      "language": "python",
      "name": "python3"
    },
    "language_info": {
      "codemirror_mode": {
        "name": "ipython",
        "version": 3
      },
      "file_extension": ".py",
      "mimetype": "text/x-python",
      "name": "python",
      "nbconvert_exporter": "python",
      "pygments_lexer": "ipython3",
      "version": "3.8.5"
    },
    "colab": {
      "name": "clasificacion sobre las imagenes.ipynb",
      "provenance": [],
      "collapsed_sections": [],
      "include_colab_link": true
    }
  },
  "cells": [
    {
      "cell_type": "markdown",
      "metadata": {
        "id": "view-in-github",
        "colab_type": "text"
      },
      "source": [
        "<a href=\"https://colab.research.google.com/github/Car-lore/DMA_LABO_Austral_2021_rosario/blob/Laboratorio-II/TP1_Clasificador%20de%20Imagenes.ipynb\" target=\"_parent\"><img src=\"https://colab.research.google.com/assets/colab-badge.svg\" alt=\"Open In Colab\"/></a>"
      ]
    },
    {
      "cell_type": "markdown",
      "metadata": {
        "id": "IStcn_8jwcgP"
      },
      "source": [
        "# Laboratorio Implementación 2\n",
        "\n",
        "## Trabajo Práctico 1 - Parte 2\n",
        "\n",
        "---\n",
        "## Integrantes:\n",
        "\n",
        "*   Ciro Couste\n",
        "*   Alberto Gir Erdmann\n",
        "*   Carla Menzella\n",
        "*   Agostina Misaña\n",
        "\n",
        "\n",
        "\n"
      ]
    },
    {
      "cell_type": "markdown",
      "metadata": {
        "id": "wWX7iRw4xPyq"
      },
      "source": [
        "### **1. Importo las librerías**\n",
        "\n"
      ]
    },
    {
      "cell_type": "code",
      "metadata": {
        "id": "n4R8LYi_x_YW"
      },
      "source": [
        "import os\n",
        "import sys\n",
        "from google.colab import drive\n",
        "\n",
        "import numpy as np\n",
        "from tensorflow.keras.preprocessing.image import load_img,img_to_array\n",
        "import matplotlib.pyplot as plt\n",
        "import tensorflow as tf\n",
        "from tensorflow.keras import datasets, layers, models\n",
        "from sklearn.model_selection import train_test_split\n",
        "from sklearn.preprocessing import OneHotEncoder\n",
        "from sklearn.preprocessing import OrdinalEncoder\n",
        "import tensorflow.keras.layers as tfl"
      ],
      "execution_count": 1,
      "outputs": []
    },
    {
      "cell_type": "markdown",
      "metadata": {
        "id": "NmW1QhR-xiPW"
      },
      "source": [
        "### **2. Conecto al Google Drive**\n",
        "\n"
      ]
    },
    {
      "cell_type": "code",
      "metadata": {
        "colab": {
          "base_uri": "https://localhost:8080/"
        },
        "id": "5FFjhWOg7HZp",
        "outputId": "d780603a-0da8-4360-a45f-8cc21ad1d401"
      },
      "source": [
        "drive.mount('/content/gdrive')"
      ],
      "execution_count": 2,
      "outputs": [
        {
          "output_type": "stream",
          "text": [
            "Mounted at /content/gdrive\n"
          ],
          "name": "stdout"
        }
      ]
    },
    {
      "cell_type": "markdown",
      "metadata": {
        "id": "qku1ht2GxxLq"
      },
      "source": [
        "### **3. Reviso las carpetas dentro de mi carpeta Imágenes**"
      ]
    },
    {
      "cell_type": "code",
      "metadata": {
        "colab": {
          "base_uri": "https://localhost:8080/"
        },
        "id": "Wj9UBBfqx_Ya",
        "outputId": "2473cc7a-a1c0-4a98-d0fb-9c8a37b3341e"
      },
      "source": [
        "folder_path='gdrive/MyDrive/imagenesG5/'\n",
        "os.listdir(folder_path)"
      ],
      "execution_count": 3,
      "outputs": [
        {
          "output_type": "execute_result",
          "data": {
            "text/plain": [
              "['MLA1000', 'MLA1039', 'MLA1051', 'MLA1144']"
            ]
          },
          "metadata": {},
          "execution_count": 3
        }
      ]
    },
    {
      "cell_type": "markdown",
      "metadata": {
        "id": "xXb3qJoex9E-"
      },
      "source": [
        "### **4. Descargo las imágenes en variables locales**"
      ]
    },
    {
      "cell_type": "code",
      "metadata": {
        "colab": {
          "base_uri": "https://localhost:8080/"
        },
        "id": "h_DjE2w8x_Yc",
        "outputId": "e429bcc9-48d9-4483-b32c-11b0b7184ffd"
      },
      "source": [
        "img_width=128\n",
        "img_height=128\n",
        "images = []\n",
        "labels=[]\n",
        "i=0\n",
        "clases=[]\n",
        "for folders in os.listdir(folder_path):\n",
        "  print ('\\r', 'Carpeta ', folders)\n",
        "  try:\n",
        "    for img in os.listdir('./{}/{}/'.format(folder_path,folders)):\n",
        "      img = load_img('./{}/{}/{}'.format(folder_path,folders,img), target_size=(img_width, img_height))\n",
        "      img = np.asarray(img)\n",
        "      img = np.expand_dims(img, axis=0)\n",
        "      images.append(img)\n",
        "      labels.append(folders)\n",
        "      i+=1\n",
        "      print('\\r', i, end='')\n",
        "  except:\n",
        "        print('Error en el archivo {}'.format(folders))\n",
        "images = np.vstack(images)"
      ],
      "execution_count": 7,
      "outputs": [
        {
          "output_type": "stream",
          "text": [
            " Carpeta  MLA1000\n",
            " Carpeta  MLA1039\n",
            " Carpeta  MLA1051\n",
            " Carpeta  MLA1144\n",
            " 6841"
          ],
          "name": "stdout"
        }
      ]
    },
    {
      "cell_type": "markdown",
      "metadata": {
        "id": "ULkrstOuyH_8"
      },
      "source": [
        "### **5. Verifico el contenido y la forma de la variable** *images*  \n"
      ]
    },
    {
      "cell_type": "code",
      "metadata": {
        "id": "SH-yAbJWx_Yd",
        "colab": {
          "base_uri": "https://localhost:8080/"
        },
        "outputId": "cbc1cbb8-0162-4cc3-cd99-a5fc92de4459"
      },
      "source": [
        "images.shape"
      ],
      "execution_count": 8,
      "outputs": [
        {
          "output_type": "execute_result",
          "data": {
            "text/plain": [
              "(6841, 128, 128, 3)"
            ]
          },
          "metadata": {},
          "execution_count": 8
        }
      ]
    },
    {
      "cell_type": "code",
      "metadata": {
        "id": "l2YmMF3ox_Ye",
        "colab": {
          "base_uri": "https://localhost:8080/",
          "height": 287
        },
        "outputId": "e7a1640c-8e9e-4bb6-f78c-a7189faa8ace"
      },
      "source": [
        "plt.imshow(images[2, :, :, :])"
      ],
      "execution_count": 9,
      "outputs": [
        {
          "output_type": "execute_result",
          "data": {
            "text/plain": [
              "<matplotlib.image.AxesImage at 0x7f2530c00ed0>"
            ]
          },
          "metadata": {},
          "execution_count": 9
        },
        {
          "output_type": "display_data",
          "data": {
            "image/png": "[encoded data removed]",
            "text/plain": [
              "<Figure size 432x288 with 1 Axes>"
            ]
          },
          "metadata": {
            "needs_background": "light"
          }
        }
      ]
    },
    {
      "cell_type": "code",
      "metadata": {
        "id": "ixSaY5LYx_Ye",
        "colab": {
          "base_uri": "https://localhost:8080/"
        },
        "outputId": "73f52646-e123-4e6b-990b-809e6321b3e1"
      },
      "source": [
        "#Categorias\n",
        "labels.distinct"
      ],
      "execution_count": 10,
      "outputs": [
        {
          "output_type": "execute_result",
          "data": {
            "text/plain": [
              "['MLA1000',\n",
              " 'MLA1000',\n",
              " 'MLA1000',\n",
              " 'MLA1000',\n",
              " 'MLA1000',\n",
              " 'MLA1000',\n",
              " 'MLA1000',\n",
              " 'MLA1000',\n",
              " 'MLA1000',\n",
              " 'MLA1000',\n",
              " 'MLA1000',\n",
              " 'MLA1000',\n",
              " 'MLA1000',\n",
              " 'MLA1000',\n",
              " 'MLA1000',\n",
              " 'MLA1000',\n",
              " 'MLA1000',\n",
              " 'MLA1000',\n",
              " 'MLA1000',\n",
              " 'MLA1000',\n",
              " 'MLA1000',\n",
              " 'MLA1000',\n",
              " 'MLA1000',\n",
              " 'MLA1000',\n",
              " 'MLA1000',\n",
              " 'MLA1000',\n",
              " 'MLA1000',\n",
              " 'MLA1000',\n",
              " 'MLA1000',\n",
              " 'MLA1000',\n",
              " 'MLA1000',\n",
              " 'MLA1000',\n",
              " 'MLA1000',\n",
              " 'MLA1000',\n",
              " 'MLA1000',\n",
              " 'MLA1000',\n",
              " 'MLA1000',\n",
              " 'MLA1000',\n",
              " 'MLA1000',\n",
              " 'MLA1000',\n",
              " 'MLA1000',\n",
              " 'MLA1000',\n",
              " 'MLA1000',\n",
              " 'MLA1000',\n",
              " 'MLA1000',\n",
              " 'MLA1000',\n",
              " 'MLA1000',\n",
              " 'MLA1000',\n",
              " 'MLA1000',\n",
              " 'MLA1000',\n",
              " 'MLA1000',\n",
              " 'MLA1000',\n",
              " 'MLA1000',\n",
              " 'MLA1000',\n",
              " 'MLA1000',\n",
              " 'MLA1000',\n",
              " 'MLA1000',\n",
              " 'MLA1000',\n",
              " 'MLA1000',\n",
              " 'MLA1000',\n",
              " 'MLA1000',\n",
              " 'MLA1000',\n",
              " 'MLA1000',\n",
              " 'MLA1000',\n",
              " 'MLA1000',\n",
              " 'MLA1000',\n",
              " 'MLA1000',\n",
              " 'MLA1000',\n",
              " 'MLA1000',\n",
              " 'MLA1000',\n",
              " 'MLA1000',\n",
              " 'MLA1000',\n",
              " 'MLA1000',\n",
              " 'MLA1000',\n",
              " 'MLA1000',\n",
              " 'MLA1000',\n",
              " 'MLA1000',\n",
              " 'MLA1000',\n",
              " 'MLA1000',\n",
              " 'MLA1000',\n",
              " 'MLA1000',\n",
              " 'MLA1000',\n",
              " 'MLA1000',\n",
              " 'MLA1000',\n",
              " 'MLA1000',\n",
              " 'MLA1000',\n",
              " 'MLA1000',\n",
              " 'MLA1000',\n",
              " 'MLA1000',\n",
              " 'MLA1000',\n",
              " 'MLA1000',\n",
              " 'MLA1000',\n",
              " 'MLA1000',\n",
              " 'MLA1000',\n",
              " 'MLA1000',\n",
              " 'MLA1000',\n",
              " 'MLA1000',\n",
              " 'MLA1000',\n",
              " 'MLA1000',\n",
              " 'MLA1000',\n",
              " 'MLA1000',\n",
              " 'MLA1000',\n",
              " 'MLA1000',\n",
              " 'MLA1000',\n",
              " 'MLA1000',\n",
              " 'MLA1000',\n",
              " 'MLA1000',\n",
              " 'MLA1000',\n",
              " 'MLA1000',\n",
              " 'MLA1000',\n",
              " 'MLA1000',\n",
              " 'MLA1000',\n",
              " 'MLA1000',\n",
              " 'MLA1000',\n",
              " 'MLA1000',\n",
              " 'MLA1000',\n",
              " 'MLA1000',\n",
              " 'MLA1000',\n",
              " 'MLA1000',\n",
              " 'MLA1000',\n",
              " 'MLA1000',\n",
              " 'MLA1000',\n",
              " 'MLA1000',\n",
              " 'MLA1000',\n",
              " 'MLA1000',\n",
              " 'MLA1000',\n",
              " 'MLA1000',\n",
              " 'MLA1000',\n",
              " 'MLA1000',\n",
              " 'MLA1000',\n",
              " 'MLA1000',\n",
              " 'MLA1000',\n",
              " 'MLA1000',\n",
              " 'MLA1000',\n",
              " 'MLA1000',\n",
              " 'MLA1000',\n",
              " 'MLA1000',\n",
              " 'MLA1000',\n",
              " 'MLA1000',\n",
              " 'MLA1000',\n",
              " 'MLA1000',\n",
              " 'MLA1000',\n",
              " 'MLA1000',\n",
              " 'MLA1000',\n",
              " 'MLA1000',\n",
              " 'MLA1000',\n",
              " 'MLA1000',\n",
              " 'MLA1000',\n",
              " 'MLA1000',\n",
              " 'MLA1000',\n",
              " 'MLA1000',\n",
              " 'MLA1000',\n",
              " 'MLA1000',\n",
              " 'MLA1000',\n",
              " 'MLA1000',\n",
              " 'MLA1000',\n",
              " 'MLA1000',\n",
              " 'MLA1000',\n",
              " 'MLA1000',\n",
              " 'MLA1000',\n",
              " 'MLA1000',\n",
              " 'MLA1000',\n",
              " 'MLA1000',\n",
              " 'MLA1000',\n",
              " 'MLA1000',\n",
              " 'MLA1000',\n",
              " 'MLA1000',\n",
              " 'MLA1000',\n",
              " 'MLA1000',\n",
              " 'MLA1000',\n",
              " 'MLA1000',\n",
              " 'MLA1000',\n",
              " 'MLA1000',\n",
              " 'MLA1000',\n",
              " 'MLA1000',\n",
              " 'MLA1000',\n",
              " 'MLA1000',\n",
              " 'MLA1000',\n",
              " 'MLA1000',\n",
              " 'MLA1000',\n",
              " 'MLA1000',\n",
              " 'MLA1000',\n",
              " 'MLA1000',\n",
              " 'MLA1000',\n",
              " 'MLA1000',\n",
              " 'MLA1000',\n",
              " 'MLA1000',\n",
              " 'MLA1000',\n",
              " 'MLA1000',\n",
              " 'MLA1000',\n",
              " 'MLA1000',\n",
              " 'MLA1000',\n",
              " 'MLA1000',\n",
              " 'MLA1000',\n",
              " 'MLA1000',\n",
              " 'MLA1000',\n",
              " 'MLA1000',\n",
              " 'MLA1000',\n",
              " 'MLA1000',\n",
              " 'MLA1000',\n",
              " 'MLA1000',\n",
              " 'MLA1000',\n",
              " 'MLA1000',\n",
              " 'MLA1000',\n",
              " 'MLA1000',\n",
              " 'MLA1000',\n",
              " 'MLA1000',\n",
              " 'MLA1000',\n",
              " 'MLA1000',\n",
              " 'MLA1000',\n",
              " 'MLA1000',\n",
              " 'MLA1000',\n",
              " 'MLA1000',\n",
              " 'MLA1000',\n",
              " 'MLA1000',\n",
              " 'MLA1000',\n",
              " 'MLA1000',\n",
              " 'MLA1000',\n",
              " 'MLA1000',\n",
              " 'MLA1000',\n",
              " 'MLA1000',\n",
              " 'MLA1000',\n",
              " 'MLA1000',\n",
              " 'MLA1000',\n",
              " 'MLA1000',\n",
              " 'MLA1000',\n",
              " 'MLA1000',\n",
              " 'MLA1000',\n",
              " 'MLA1000',\n",
              " 'MLA1000',\n",
              " 'MLA1000',\n",
              " 'MLA1000',\n",
              " 'MLA1000',\n",
              " 'MLA1000',\n",
              " 'MLA1000',\n",
              " 'MLA1000',\n",
              " 'MLA1000',\n",
              " 'MLA1000',\n",
              " 'MLA1000',\n",
              " 'MLA1000',\n",
              " 'MLA1000',\n",
              " 'MLA1000',\n",
              " 'MLA1000',\n",
              " 'MLA1000',\n",
              " 'MLA1000',\n",
              " 'MLA1000',\n",
              " 'MLA1000',\n",
              " 'MLA1000',\n",
              " 'MLA1000',\n",
              " 'MLA1000',\n",
              " 'MLA1000',\n",
              " 'MLA1000',\n",
              " 'MLA1000',\n",
              " 'MLA1000',\n",
              " 'MLA1000',\n",
              " 'MLA1000',\n",
              " 'MLA1000',\n",
              " 'MLA1000',\n",
              " 'MLA1000',\n",
              " 'MLA1000',\n",
              " 'MLA1000',\n",
              " 'MLA1000',\n",
              " 'MLA1000',\n",
              " 'MLA1000',\n",
              " 'MLA1000',\n",
              " 'MLA1000',\n",
              " 'MLA1000',\n",
              " 'MLA1000',\n",
              " 'MLA1000',\n",
              " 'MLA1000',\n",
              " 'MLA1000',\n",
              " 'MLA1000',\n",
              " 'MLA1000',\n",
              " 'MLA1000',\n",
              " 'MLA1000',\n",
              " 'MLA1000',\n",
              " 'MLA1000',\n",
              " 'MLA1000',\n",
              " 'MLA1000',\n",
              " 'MLA1000',\n",
              " 'MLA1000',\n",
              " 'MLA1000',\n",
              " 'MLA1000',\n",
              " 'MLA1000',\n",
              " 'MLA1000',\n",
              " 'MLA1000',\n",
              " 'MLA1000',\n",
              " 'MLA1000',\n",
              " 'MLA1000',\n",
              " 'MLA1000',\n",
              " 'MLA1000',\n",
              " 'MLA1000',\n",
              " 'MLA1000',\n",
              " 'MLA1000',\n",
              " 'MLA1000',\n",
              " 'MLA1000',\n",
              " 'MLA1000',\n",
              " 'MLA1000',\n",
              " 'MLA1000',\n",
              " 'MLA1000',\n",
              " 'MLA1000',\n",
              " 'MLA1000',\n",
              " 'MLA1000',\n",
              " 'MLA1000',\n",
              " 'MLA1000',\n",
              " 'MLA1000',\n",
              " 'MLA1000',\n",
              " 'MLA1000',\n",
              " 'MLA1000',\n",
              " 'MLA1000',\n",
              " 'MLA1000',\n",
              " 'MLA1000',\n",
              " 'MLA1000',\n",
              " 'MLA1000',\n",
              " 'MLA1000',\n",
              " 'MLA1000',\n",
              " 'MLA1000',\n",
              " 'MLA1000',\n",
              " 'MLA1000',\n",
              " 'MLA1000',\n",
              " 'MLA1000',\n",
              " 'MLA1000',\n",
              " 'MLA1000',\n",
              " 'MLA1000',\n",
              " 'MLA1000',\n",
              " 'MLA1000',\n",
              " 'MLA1000',\n",
              " 'MLA1000',\n",
              " 'MLA1000',\n",
              " 'MLA1000',\n",
              " 'MLA1000',\n",
              " 'MLA1000',\n",
              " 'MLA1000',\n",
              " 'MLA1000',\n",
              " 'MLA1000',\n",
              " 'MLA1000',\n",
              " 'MLA1000',\n",
              " 'MLA1000',\n",
              " 'MLA1000',\n",
              " 'MLA1000',\n",
              " 'MLA1000',\n",
              " 'MLA1000',\n",
              " 'MLA1000',\n",
              " 'MLA1000',\n",
              " 'MLA1000',\n",
              " 'MLA1000',\n",
              " 'MLA1000',\n",
              " 'MLA1000',\n",
              " 'MLA1000',\n",
              " 'MLA1000',\n",
              " 'MLA1000',\n",
              " 'MLA1000',\n",
              " 'MLA1000',\n",
              " 'MLA1000',\n",
              " 'MLA1000',\n",
              " 'MLA1000',\n",
              " 'MLA1000',\n",
              " 'MLA1000',\n",
              " 'MLA1000',\n",
              " 'MLA1000',\n",
              " 'MLA1000',\n",
              " 'MLA1000',\n",
              " 'MLA1000',\n",
              " 'MLA1000',\n",
              " 'MLA1000',\n",
              " 'MLA1000',\n",
              " 'MLA1000',\n",
              " 'MLA1000',\n",
              " 'MLA1000',\n",
              " 'MLA1000',\n",
              " 'MLA1000',\n",
              " 'MLA1000',\n",
              " 'MLA1000',\n",
              " 'MLA1000',\n",
              " 'MLA1000',\n",
              " 'MLA1000',\n",
              " 'MLA1000',\n",
              " 'MLA1000',\n",
              " 'MLA1000',\n",
              " 'MLA1000',\n",
              " 'MLA1000',\n",
              " 'MLA1000',\n",
              " 'MLA1000',\n",
              " 'MLA1000',\n",
              " 'MLA1000',\n",
              " 'MLA1000',\n",
              " 'MLA1000',\n",
              " 'MLA1000',\n",
              " 'MLA1000',\n",
              " 'MLA1000',\n",
              " 'MLA1000',\n",
              " 'MLA1000',\n",
              " 'MLA1000',\n",
              " 'MLA1000',\n",
              " 'MLA1000',\n",
              " 'MLA1000',\n",
              " 'MLA1000',\n",
              " 'MLA1000',\n",
              " 'MLA1000',\n",
              " 'MLA1000',\n",
              " 'MLA1000',\n",
              " 'MLA1000',\n",
              " 'MLA1000',\n",
              " 'MLA1000',\n",
              " 'MLA1000',\n",
              " 'MLA1000',\n",
              " 'MLA1000',\n",
              " 'MLA1000',\n",
              " 'MLA1000',\n",
              " 'MLA1000',\n",
              " 'MLA1000',\n",
              " 'MLA1000',\n",
              " 'MLA1000',\n",
              " 'MLA1000',\n",
              " 'MLA1000',\n",
              " 'MLA1000',\n",
              " 'MLA1000',\n",
              " 'MLA1000',\n",
              " 'MLA1000',\n",
              " 'MLA1000',\n",
              " 'MLA1000',\n",
              " 'MLA1000',\n",
              " 'MLA1000',\n",
              " 'MLA1000',\n",
              " 'MLA1000',\n",
              " 'MLA1000',\n",
              " 'MLA1000',\n",
              " 'MLA1000',\n",
              " 'MLA1000',\n",
              " 'MLA1000',\n",
              " 'MLA1000',\n",
              " 'MLA1000',\n",
              " 'MLA1000',\n",
              " 'MLA1000',\n",
              " 'MLA1000',\n",
              " 'MLA1000',\n",
              " 'MLA1000',\n",
              " 'MLA1000',\n",
              " 'MLA1000',\n",
              " 'MLA1000',\n",
              " 'MLA1000',\n",
              " 'MLA1000',\n",
              " 'MLA1000',\n",
              " 'MLA1000',\n",
              " 'MLA1000',\n",
              " 'MLA1000',\n",
              " 'MLA1000',\n",
              " 'MLA1000',\n",
              " 'MLA1000',\n",
              " 'MLA1000',\n",
              " 'MLA1000',\n",
              " 'MLA1000',\n",
              " 'MLA1000',\n",
              " 'MLA1000',\n",
              " 'MLA1000',\n",
              " 'MLA1000',\n",
              " 'MLA1000',\n",
              " 'MLA1000',\n",
              " 'MLA1000',\n",
              " 'MLA1000',\n",
              " 'MLA1000',\n",
              " 'MLA1000',\n",
              " 'MLA1000',\n",
              " 'MLA1000',\n",
              " 'MLA1000',\n",
              " 'MLA1000',\n",
              " 'MLA1000',\n",
              " 'MLA1000',\n",
              " 'MLA1000',\n",
              " 'MLA1000',\n",
              " 'MLA1000',\n",
              " 'MLA1000',\n",
              " 'MLA1000',\n",
              " 'MLA1000',\n",
              " 'MLA1000',\n",
              " 'MLA1000',\n",
              " 'MLA1000',\n",
              " 'MLA1000',\n",
              " 'MLA1000',\n",
              " 'MLA1000',\n",
              " 'MLA1000',\n",
              " 'MLA1000',\n",
              " 'MLA1000',\n",
              " 'MLA1000',\n",
              " 'MLA1000',\n",
              " 'MLA1000',\n",
              " 'MLA1000',\n",
              " 'MLA1000',\n",
              " 'MLA1000',\n",
              " 'MLA1000',\n",
              " 'MLA1000',\n",
              " 'MLA1000',\n",
              " 'MLA1000',\n",
              " 'MLA1000',\n",
              " 'MLA1000',\n",
              " 'MLA1000',\n",
              " 'MLA1000',\n",
              " 'MLA1000',\n",
              " 'MLA1000',\n",
              " 'MLA1000',\n",
              " 'MLA1000',\n",
              " 'MLA1000',\n",
              " 'MLA1000',\n",
              " 'MLA1000',\n",
              " 'MLA1000',\n",
              " 'MLA1000',\n",
              " 'MLA1000',\n",
              " 'MLA1000',\n",
              " 'MLA1000',\n",
              " 'MLA1000',\n",
              " 'MLA1000',\n",
              " 'MLA1000',\n",
              " 'MLA1000',\n",
              " 'MLA1000',\n",
              " 'MLA1000',\n",
              " 'MLA1000',\n",
              " 'MLA1000',\n",
              " 'MLA1000',\n",
              " 'MLA1000',\n",
              " 'MLA1000',\n",
              " 'MLA1000',\n",
              " 'MLA1000',\n",
              " 'MLA1000',\n",
              " 'MLA1000',\n",
              " 'MLA1000',\n",
              " 'MLA1000',\n",
              " 'MLA1000',\n",
              " 'MLA1000',\n",
              " 'MLA1000',\n",
              " 'MLA1000',\n",
              " 'MLA1000',\n",
              " 'MLA1000',\n",
              " 'MLA1000',\n",
              " 'MLA1000',\n",
              " 'MLA1000',\n",
              " 'MLA1000',\n",
              " 'MLA1000',\n",
              " 'MLA1000',\n",
              " 'MLA1000',\n",
              " 'MLA1000',\n",
              " 'MLA1000',\n",
              " 'MLA1000',\n",
              " 'MLA1000',\n",
              " 'MLA1000',\n",
              " 'MLA1000',\n",
              " 'MLA1000',\n",
              " 'MLA1000',\n",
              " 'MLA1000',\n",
              " 'MLA1000',\n",
              " 'MLA1000',\n",
              " 'MLA1000',\n",
              " 'MLA1000',\n",
              " 'MLA1000',\n",
              " 'MLA1000',\n",
              " 'MLA1000',\n",
              " 'MLA1000',\n",
              " 'MLA1000',\n",
              " 'MLA1000',\n",
              " 'MLA1000',\n",
              " 'MLA1000',\n",
              " 'MLA1000',\n",
              " 'MLA1000',\n",
              " 'MLA1000',\n",
              " 'MLA1000',\n",
              " 'MLA1000',\n",
              " 'MLA1000',\n",
              " 'MLA1000',\n",
              " 'MLA1000',\n",
              " 'MLA1000',\n",
              " 'MLA1000',\n",
              " 'MLA1000',\n",
              " 'MLA1000',\n",
              " 'MLA1000',\n",
              " 'MLA1000',\n",
              " 'MLA1000',\n",
              " 'MLA1000',\n",
              " 'MLA1000',\n",
              " 'MLA1000',\n",
              " 'MLA1000',\n",
              " 'MLA1000',\n",
              " 'MLA1000',\n",
              " 'MLA1000',\n",
              " 'MLA1000',\n",
              " 'MLA1000',\n",
              " 'MLA1000',\n",
              " 'MLA1000',\n",
              " 'MLA1000',\n",
              " 'MLA1000',\n",
              " 'MLA1000',\n",
              " 'MLA1000',\n",
              " 'MLA1000',\n",
              " 'MLA1000',\n",
              " 'MLA1000',\n",
              " 'MLA1000',\n",
              " 'MLA1000',\n",
              " 'MLA1000',\n",
              " 'MLA1000',\n",
              " 'MLA1000',\n",
              " 'MLA1000',\n",
              " 'MLA1000',\n",
              " 'MLA1000',\n",
              " 'MLA1000',\n",
              " 'MLA1000',\n",
              " 'MLA1000',\n",
              " 'MLA1000',\n",
              " 'MLA1000',\n",
              " 'MLA1000',\n",
              " 'MLA1000',\n",
              " 'MLA1000',\n",
              " 'MLA1000',\n",
              " 'MLA1000',\n",
              " 'MLA1000',\n",
              " 'MLA1000',\n",
              " 'MLA1000',\n",
              " 'MLA1000',\n",
              " 'MLA1000',\n",
              " 'MLA1000',\n",
              " 'MLA1000',\n",
              " 'MLA1000',\n",
              " 'MLA1000',\n",
              " 'MLA1000',\n",
              " 'MLA1000',\n",
              " 'MLA1000',\n",
              " 'MLA1000',\n",
              " 'MLA1000',\n",
              " 'MLA1000',\n",
              " 'MLA1000',\n",
              " 'MLA1000',\n",
              " 'MLA1000',\n",
              " 'MLA1000',\n",
              " 'MLA1000',\n",
              " 'MLA1000',\n",
              " 'MLA1000',\n",
              " 'MLA1000',\n",
              " 'MLA1000',\n",
              " 'MLA1000',\n",
              " 'MLA1000',\n",
              " 'MLA1000',\n",
              " 'MLA1000',\n",
              " 'MLA1000',\n",
              " 'MLA1000',\n",
              " 'MLA1000',\n",
              " 'MLA1000',\n",
              " 'MLA1000',\n",
              " 'MLA1000',\n",
              " 'MLA1000',\n",
              " 'MLA1000',\n",
              " 'MLA1000',\n",
              " 'MLA1000',\n",
              " 'MLA1000',\n",
              " 'MLA1000',\n",
              " 'MLA1000',\n",
              " 'MLA1000',\n",
              " 'MLA1000',\n",
              " 'MLA1000',\n",
              " 'MLA1000',\n",
              " 'MLA1000',\n",
              " 'MLA1000',\n",
              " 'MLA1000',\n",
              " 'MLA1000',\n",
              " 'MLA1000',\n",
              " 'MLA1000',\n",
              " 'MLA1000',\n",
              " 'MLA1000',\n",
              " 'MLA1000',\n",
              " 'MLA1000',\n",
              " 'MLA1000',\n",
              " 'MLA1000',\n",
              " 'MLA1000',\n",
              " 'MLA1000',\n",
              " 'MLA1000',\n",
              " 'MLA1000',\n",
              " 'MLA1000',\n",
              " 'MLA1000',\n",
              " 'MLA1000',\n",
              " 'MLA1000',\n",
              " 'MLA1000',\n",
              " 'MLA1000',\n",
              " 'MLA1000',\n",
              " 'MLA1000',\n",
              " 'MLA1000',\n",
              " 'MLA1000',\n",
              " 'MLA1000',\n",
              " 'MLA1000',\n",
              " 'MLA1000',\n",
              " 'MLA1000',\n",
              " 'MLA1000',\n",
              " 'MLA1000',\n",
              " 'MLA1000',\n",
              " 'MLA1000',\n",
              " 'MLA1000',\n",
              " 'MLA1000',\n",
              " 'MLA1000',\n",
              " 'MLA1000',\n",
              " 'MLA1000',\n",
              " 'MLA1000',\n",
              " 'MLA1000',\n",
              " 'MLA1000',\n",
              " 'MLA1000',\n",
              " 'MLA1000',\n",
              " 'MLA1000',\n",
              " 'MLA1000',\n",
              " 'MLA1000',\n",
              " 'MLA1000',\n",
              " 'MLA1000',\n",
              " 'MLA1000',\n",
              " 'MLA1000',\n",
              " 'MLA1000',\n",
              " 'MLA1000',\n",
              " 'MLA1000',\n",
              " 'MLA1000',\n",
              " 'MLA1000',\n",
              " 'MLA1000',\n",
              " 'MLA1000',\n",
              " 'MLA1000',\n",
              " 'MLA1000',\n",
              " 'MLA1000',\n",
              " 'MLA1000',\n",
              " 'MLA1000',\n",
              " 'MLA1000',\n",
              " 'MLA1000',\n",
              " 'MLA1000',\n",
              " 'MLA1000',\n",
              " 'MLA1000',\n",
              " 'MLA1000',\n",
              " 'MLA1000',\n",
              " 'MLA1000',\n",
              " 'MLA1000',\n",
              " 'MLA1000',\n",
              " 'MLA1000',\n",
              " 'MLA1000',\n",
              " 'MLA1000',\n",
              " 'MLA1000',\n",
              " 'MLA1000',\n",
              " 'MLA1000',\n",
              " 'MLA1000',\n",
              " 'MLA1000',\n",
              " 'MLA1000',\n",
              " 'MLA1000',\n",
              " 'MLA1000',\n",
              " 'MLA1000',\n",
              " 'MLA1000',\n",
              " 'MLA1000',\n",
              " 'MLA1000',\n",
              " 'MLA1000',\n",
              " 'MLA1000',\n",
              " 'MLA1000',\n",
              " 'MLA1000',\n",
              " 'MLA1000',\n",
              " 'MLA1000',\n",
              " 'MLA1000',\n",
              " 'MLA1000',\n",
              " 'MLA1000',\n",
              " 'MLA1000',\n",
              " 'MLA1000',\n",
              " 'MLA1000',\n",
              " 'MLA1000',\n",
              " 'MLA1000',\n",
              " 'MLA1000',\n",
              " 'MLA1000',\n",
              " 'MLA1000',\n",
              " 'MLA1000',\n",
              " 'MLA1000',\n",
              " 'MLA1000',\n",
              " 'MLA1000',\n",
              " 'MLA1000',\n",
              " 'MLA1000',\n",
              " 'MLA1000',\n",
              " 'MLA1000',\n",
              " 'MLA1000',\n",
              " 'MLA1000',\n",
              " 'MLA1000',\n",
              " 'MLA1000',\n",
              " 'MLA1000',\n",
              " 'MLA1000',\n",
              " 'MLA1000',\n",
              " 'MLA1000',\n",
              " 'MLA1000',\n",
              " 'MLA1000',\n",
              " 'MLA1000',\n",
              " 'MLA1000',\n",
              " 'MLA1000',\n",
              " 'MLA1000',\n",
              " 'MLA1000',\n",
              " 'MLA1000',\n",
              " 'MLA1000',\n",
              " 'MLA1000',\n",
              " 'MLA1000',\n",
              " 'MLA1000',\n",
              " 'MLA1000',\n",
              " 'MLA1000',\n",
              " 'MLA1000',\n",
              " 'MLA1000',\n",
              " 'MLA1000',\n",
              " 'MLA1000',\n",
              " 'MLA1000',\n",
              " 'MLA1000',\n",
              " 'MLA1000',\n",
              " 'MLA1000',\n",
              " 'MLA1000',\n",
              " 'MLA1000',\n",
              " 'MLA1000',\n",
              " 'MLA1000',\n",
              " 'MLA1000',\n",
              " 'MLA1000',\n",
              " 'MLA1000',\n",
              " 'MLA1000',\n",
              " 'MLA1000',\n",
              " 'MLA1000',\n",
              " 'MLA1000',\n",
              " 'MLA1000',\n",
              " 'MLA1000',\n",
              " 'MLA1000',\n",
              " 'MLA1000',\n",
              " 'MLA1000',\n",
              " 'MLA1000',\n",
              " 'MLA1000',\n",
              " 'MLA1000',\n",
              " 'MLA1000',\n",
              " 'MLA1000',\n",
              " 'MLA1000',\n",
              " 'MLA1000',\n",
              " 'MLA1000',\n",
              " 'MLA1000',\n",
              " 'MLA1000',\n",
              " 'MLA1000',\n",
              " 'MLA1000',\n",
              " 'MLA1000',\n",
              " 'MLA1000',\n",
              " 'MLA1000',\n",
              " 'MLA1000',\n",
              " 'MLA1000',\n",
              " 'MLA1000',\n",
              " 'MLA1000',\n",
              " 'MLA1000',\n",
              " 'MLA1000',\n",
              " 'MLA1000',\n",
              " 'MLA1000',\n",
              " 'MLA1000',\n",
              " 'MLA1000',\n",
              " 'MLA1000',\n",
              " 'MLA1000',\n",
              " 'MLA1000',\n",
              " 'MLA1000',\n",
              " 'MLA1000',\n",
              " 'MLA1000',\n",
              " 'MLA1000',\n",
              " 'MLA1000',\n",
              " 'MLA1000',\n",
              " 'MLA1000',\n",
              " 'MLA1000',\n",
              " 'MLA1000',\n",
              " 'MLA1000',\n",
              " 'MLA1000',\n",
              " 'MLA1000',\n",
              " 'MLA1000',\n",
              " 'MLA1000',\n",
              " 'MLA1000',\n",
              " 'MLA1000',\n",
              " 'MLA1000',\n",
              " 'MLA1000',\n",
              " 'MLA1000',\n",
              " 'MLA1000',\n",
              " 'MLA1000',\n",
              " 'MLA1000',\n",
              " 'MLA1000',\n",
              " 'MLA1000',\n",
              " 'MLA1000',\n",
              " 'MLA1000',\n",
              " 'MLA1000',\n",
              " 'MLA1000',\n",
              " 'MLA1000',\n",
              " 'MLA1000',\n",
              " 'MLA1000',\n",
              " 'MLA1000',\n",
              " 'MLA1000',\n",
              " 'MLA1000',\n",
              " 'MLA1000',\n",
              " 'MLA1000',\n",
              " 'MLA1000',\n",
              " 'MLA1000',\n",
              " 'MLA1000',\n",
              " 'MLA1000',\n",
              " 'MLA1000',\n",
              " 'MLA1000',\n",
              " 'MLA1000',\n",
              " 'MLA1000',\n",
              " 'MLA1000',\n",
              " 'MLA1000',\n",
              " 'MLA1000',\n",
              " 'MLA1000',\n",
              " 'MLA1000',\n",
              " 'MLA1000',\n",
              " 'MLA1000',\n",
              " 'MLA1000',\n",
              " 'MLA1000',\n",
              " 'MLA1000',\n",
              " 'MLA1000',\n",
              " 'MLA1000',\n",
              " 'MLA1000',\n",
              " 'MLA1000',\n",
              " 'MLA1000',\n",
              " 'MLA1000',\n",
              " 'MLA1000',\n",
              " 'MLA1000',\n",
              " 'MLA1000',\n",
              " 'MLA1000',\n",
              " 'MLA1000',\n",
              " 'MLA1000',\n",
              " 'MLA1000',\n",
              " 'MLA1000',\n",
              " 'MLA1000',\n",
              " 'MLA1000',\n",
              " 'MLA1000',\n",
              " 'MLA1000',\n",
              " 'MLA1000',\n",
              " 'MLA1000',\n",
              " 'MLA1000',\n",
              " 'MLA1000',\n",
              " 'MLA1000',\n",
              " 'MLA1000',\n",
              " 'MLA1000',\n",
              " 'MLA1000',\n",
              " 'MLA1000',\n",
              " 'MLA1000',\n",
              " 'MLA1000',\n",
              " 'MLA1000',\n",
              " 'MLA1000',\n",
              " 'MLA1000',\n",
              " 'MLA1000',\n",
              " 'MLA1000',\n",
              " 'MLA1000',\n",
              " 'MLA1000',\n",
              " 'MLA1000',\n",
              " 'MLA1000',\n",
              " 'MLA1000',\n",
              " 'MLA1000',\n",
              " 'MLA1000',\n",
              " 'MLA1000',\n",
              " 'MLA1000',\n",
              " 'MLA1000',\n",
              " 'MLA1000',\n",
              " 'MLA1000',\n",
              " 'MLA1000',\n",
              " 'MLA1000',\n",
              " 'MLA1000',\n",
              " 'MLA1000',\n",
              " 'MLA1000',\n",
              " 'MLA1000',\n",
              " 'MLA1000',\n",
              " 'MLA1000',\n",
              " 'MLA1000',\n",
              " 'MLA1000',\n",
              " 'MLA1000',\n",
              " 'MLA1000',\n",
              " 'MLA1000',\n",
              " 'MLA1000',\n",
              " 'MLA1000',\n",
              " 'MLA1000',\n",
              " 'MLA1000',\n",
              " 'MLA1000',\n",
              " 'MLA1000',\n",
              " 'MLA1000',\n",
              " 'MLA1000',\n",
              " 'MLA1000',\n",
              " 'MLA1000',\n",
              " 'MLA1000',\n",
              " 'MLA1000',\n",
              " 'MLA1000',\n",
              " 'MLA1000',\n",
              " 'MLA1000',\n",
              " 'MLA1000',\n",
              " 'MLA1000',\n",
              " 'MLA1000',\n",
              " 'MLA1000',\n",
              " 'MLA1000',\n",
              " 'MLA1000',\n",
              " 'MLA1000',\n",
              " 'MLA1000',\n",
              " 'MLA1000',\n",
              " 'MLA1000',\n",
              " 'MLA1000',\n",
              " 'MLA1000',\n",
              " 'MLA1000',\n",
              " 'MLA1000',\n",
              " 'MLA1000',\n",
              " 'MLA1000',\n",
              " 'MLA1000',\n",
              " 'MLA1000',\n",
              " 'MLA1000',\n",
              " 'MLA1000',\n",
              " 'MLA1000',\n",
              " 'MLA1000',\n",
              " 'MLA1000',\n",
              " 'MLA1000',\n",
              " 'MLA1000',\n",
              " 'MLA1000',\n",
              " 'MLA1000',\n",
              " 'MLA1000',\n",
              " 'MLA1000',\n",
              " ...]"
            ]
          },
          "metadata": {},
          "execution_count": 10
        }
      ]
    },
    {
      "cell_type": "code",
      "metadata": {
        "id": "mocL0NoPx_Yf"
      },
      "source": [
        "# Esto sirve si vamos a predecir valores binarios\n",
        "\n",
        "#encoder=OrdinalEncoder()\n",
        "#encoder.fit(np.array(labels).reshape(-1,1))\n",
        "#y=encoder.transform(np.array(labels).reshape(-1,1))\n",
        "#X=images/255. # escalamos para que vaya de 0 a 1"
      ],
      "execution_count": null,
      "outputs": []
    },
    {
      "cell_type": "code",
      "metadata": {
        "id": "LaTROyc3x_Yg"
      },
      "source": [
        "# Si tenemos más de dos posibles valores, nos conviene esto\n",
        "\n",
        "encoder=OneHotEncoder()\n",
        "encoder.fit(np.array(labels).reshape(-1,1))\n",
        "y=encoder.transform(np.array(labels).reshape(-1,1))\n",
        "X=images/255."
      ],
      "execution_count": 11,
      "outputs": []
    },
    {
      "cell_type": "code",
      "metadata": {
        "id": "E5hL49Bax_Yh",
        "colab": {
          "base_uri": "https://localhost:8080/"
        },
        "outputId": "d578d658-5cb0-4f88-ecf3-76a82c1ff108"
      },
      "source": [
        "y.todense()"
      ],
      "execution_count": 12,
      "outputs": [
        {
          "output_type": "execute_result",
          "data": {
            "text/plain": [
              "matrix([[1., 0., 0., 0.],\n",
              "        [1., 0., 0., 0.],\n",
              "        [1., 0., 0., 0.],\n",
              "        ...,\n",
              "        [0., 0., 0., 1.],\n",
              "        [0., 0., 0., 1.],\n",
              "        [0., 0., 0., 1.]])"
            ]
          },
          "metadata": {},
          "execution_count": 12
        }
      ]
    },
    {
      "cell_type": "code",
      "metadata": {
        "id": "geRZv74yx_Yi"
      },
      "source": [
        "# Como ya tengo mis x y mis y borro los labels e images para ahorrar memoria\n",
        "\n",
        "del labels,images"
      ],
      "execution_count": 13,
      "outputs": []
    },
    {
      "cell_type": "code",
      "metadata": {
        "id": "RP4pO3BXx_Yj"
      },
      "source": [
        "X_train, X_test, y_train, y_test = train_test_split(X, y, test_size=0.33, random_state=42)"
      ],
      "execution_count": 14,
      "outputs": []
    },
    {
      "cell_type": "code",
      "metadata": {
        "id": "Bajn7Py7x_Yj",
        "colab": {
          "base_uri": "https://localhost:8080/"
        },
        "outputId": "3ce3f325-b0dc-4d4e-f861-32403a09c443"
      },
      "source": [
        "X_train.shape"
      ],
      "execution_count": 15,
      "outputs": [
        {
          "output_type": "execute_result",
          "data": {
            "text/plain": [
              "(4583, 128, 128, 3)"
            ]
          },
          "metadata": {},
          "execution_count": 15
        }
      ]
    },
    {
      "cell_type": "code",
      "metadata": {
        "id": "agUDhGdCx_Yk",
        "colab": {
          "base_uri": "https://localhost:8080/"
        },
        "outputId": "b79d736b-6752-4563-c5f9-65669b695925"
      },
      "source": [
        "X_test.shape"
      ],
      "execution_count": 16,
      "outputs": [
        {
          "output_type": "execute_result",
          "data": {
            "text/plain": [
              "(2258, 128, 128, 3)"
            ]
          },
          "metadata": {},
          "execution_count": 16
        }
      ]
    },
    {
      "cell_type": "code",
      "metadata": {
        "id": "BrPG0rBUx_Yk",
        "colab": {
          "base_uri": "https://localhost:8080/"
        },
        "outputId": "5704b4cd-7e23-49aa-c8a4-fc47e328bb0b"
      },
      "source": [
        "y_train.shape"
      ],
      "execution_count": 17,
      "outputs": [
        {
          "output_type": "execute_result",
          "data": {
            "text/plain": [
              "(4583, 4)"
            ]
          },
          "metadata": {},
          "execution_count": 17
        }
      ]
    },
    {
      "cell_type": "code",
      "metadata": {
        "id": "H61xzGC0x_Yl",
        "colab": {
          "base_uri": "https://localhost:8080/"
        },
        "outputId": "571d282b-d00d-4e85-d5f4-1eb40369d208"
      },
      "source": [
        "y_test.shape"
      ],
      "execution_count": 18,
      "outputs": [
        {
          "output_type": "execute_result",
          "data": {
            "text/plain": [
              "(2258, 4)"
            ]
          },
          "metadata": {},
          "execution_count": 18
        }
      ]
    },
    {
      "cell_type": "code",
      "metadata": {
        "id": "fB9CdU8tx_Yl",
        "colab": {
          "base_uri": "https://localhost:8080/"
        },
        "outputId": "ffb89ebf-4f42-4e11-d845-255dae184729"
      },
      "source": [
        "y_test.todense()"
      ],
      "execution_count": 19,
      "outputs": [
        {
          "output_type": "execute_result",
          "data": {
            "text/plain": [
              "matrix([[1., 0., 0., 0.],\n",
              "        [0., 1., 0., 0.],\n",
              "        [0., 0., 1., 0.],\n",
              "        ...,\n",
              "        [0., 1., 0., 0.],\n",
              "        [0., 1., 0., 0.],\n",
              "        [1., 0., 0., 0.]])"
            ]
          },
          "metadata": {},
          "execution_count": 19
        }
      ]
    },
    {
      "cell_type": "code",
      "metadata": {
        "id": "HczuIrXAx_Yl"
      },
      "source": [
        "model = models.Sequential()\n",
        "model.add(layers.Conv2D(32, (3, 3), activation='relu', input_shape=(128, 128, 3)))\n",
        "model.add(layers.MaxPooling2D((2, 2)))\n",
        "model.add(layers.Conv2D(32, (3, 3), activation='relu'))\n",
        "model.add(layers.MaxPooling2D((2, 2)))\n",
        "model.add(layers.Conv2D(32, (3, 3), activation='relu'))\n",
        "model.add(layers.MaxPooling2D((2, 2)))\n",
        "model.add(layers.Flatten())\n",
        "model.add(layers.Dense(100,activation='relu'))\n",
        "#model.add(layers.Dense(1,activation='sigmoid'))\n",
        "model.add(layers.Dense(4,activation='softmax'))"
      ],
      "execution_count": 20,
      "outputs": []
    },
    {
      "cell_type": "code",
      "metadata": {
        "id": "PEDIt2-cx_Ym",
        "colab": {
          "base_uri": "https://localhost:8080/"
        },
        "outputId": "f1ac16cf-dab6-4310-da58-0f3ef0fb0829"
      },
      "source": [
        "model.summary()"
      ],
      "execution_count": 21,
      "outputs": [
        {
          "output_type": "stream",
          "text": [
            "Model: \"sequential\"\n",
            "_________________________________________________________________\n",
            "Layer (type)                 Output Shape              Param #   \n",
            "=================================================================\n",
            "conv2d (Conv2D)              (None, 126, 126, 32)      896       \n",
            "_________________________________________________________________\n",
            "max_pooling2d (MaxPooling2D) (None, 63, 63, 32)        0         \n",
            "_________________________________________________________________\n",
            "conv2d_1 (Conv2D)            (None, 61, 61, 32)        9248      \n",
            "_________________________________________________________________\n",
            "max_pooling2d_1 (MaxPooling2 (None, 30, 30, 32)        0         \n",
            "_________________________________________________________________\n",
            "conv2d_2 (Conv2D)            (None, 28, 28, 32)        9248      \n",
            "_________________________________________________________________\n",
            "max_pooling2d_2 (MaxPooling2 (None, 14, 14, 32)        0         \n",
            "_________________________________________________________________\n",
            "flatten (Flatten)            (None, 6272)              0         \n",
            "_________________________________________________________________\n",
            "dense (Dense)                (None, 100)               627300    \n",
            "_________________________________________________________________\n",
            "dense_1 (Dense)              (None, 4)                 404       \n",
            "=================================================================\n",
            "Total params: 647,096\n",
            "Trainable params: 647,096\n",
            "Non-trainable params: 0\n",
            "_________________________________________________________________\n"
          ],
          "name": "stdout"
        }
      ]
    },
    {
      "cell_type": "code",
      "metadata": {
        "id": "EBC-Wc7sx_Ym"
      },
      "source": [
        "# esto lo uso si tengo binary\n",
        "#model.compile(optimizer='adam',\n",
        "#              loss=tf.keras.losses.BinaryCrossentropy(),\n",
        "#              metrics=['accuracy'])"
      ],
      "execution_count": null,
      "outputs": []
    },
    {
      "cell_type": "code",
      "metadata": {
        "id": "TARLu9ynx_Ym"
      },
      "source": [
        "model.compile(optimizer='adam',\n",
        "              loss=tf.keras.losses.CategoricalCrossentropy(),\n",
        "              metrics=['accuracy'])"
      ],
      "execution_count": 22,
      "outputs": []
    },
    {
      "cell_type": "code",
      "metadata": {
        "id": "319TBmt1x_Ym"
      },
      "source": [
        "y_train=y_train.todense()\n",
        "y_test=y_test.todense()"
      ],
      "execution_count": 23,
      "outputs": []
    },
    {
      "cell_type": "code",
      "metadata": {
        "id": "j2Bs5jo8x_Yn",
        "colab": {
          "base_uri": "https://localhost:8080/"
        },
        "outputId": "41dc75ac-c661-4a85-a8d6-eb4164af4f2a"
      },
      "source": [
        "history = model.fit(X_train, y_train, epochs=5,\n",
        "                    validation_data=(X_test,y_test))"
      ],
      "execution_count": 24,
      "outputs": [
        {
          "output_type": "stream",
          "text": [
            "Epoch 1/5\n",
            "144/144 [==============================] - 89s 610ms/step - loss: 1.2225 - accuracy: 0.4318 - val_loss: 1.0370 - val_accuracy: 0.5412\n",
            "Epoch 2/5\n",
            "144/144 [==============================] - 88s 608ms/step - loss: 0.9643 - accuracy: 0.5979 - val_loss: 0.9253 - val_accuracy: 0.6209\n",
            "Epoch 3/5\n",
            "144/144 [==============================] - 88s 609ms/step - loss: 0.7685 - accuracy: 0.6913 - val_loss: 0.8362 - val_accuracy: 0.6625\n",
            "Epoch 4/5\n",
            "144/144 [==============================] - 87s 608ms/step - loss: 0.5616 - accuracy: 0.7807 - val_loss: 0.8039 - val_accuracy: 0.6864\n",
            "Epoch 5/5\n",
            "144/144 [==============================] - 88s 611ms/step - loss: 0.3801 - accuracy: 0.8547 - val_loss: 0.9210 - val_accuracy: 0.6820\n"
          ],
          "name": "stdout"
        }
      ]
    },
    {
      "cell_type": "code",
      "metadata": {
        "id": "rhvue4L_x_Yn",
        "colab": {
          "base_uri": "https://localhost:8080/",
          "height": 513
        },
        "outputId": "1d6eb495-0876-4193-e3cf-9eb7071dbe20"
      },
      "source": [
        "#Grafiquemos los resultados\n",
        "acc = [0.] + history.history['accuracy']\n",
        "val_acc = [0.] + history.history['val_accuracy']\n",
        "\n",
        "loss = history.history['loss']\n",
        "val_loss = history.history['val_loss']\n",
        "\n",
        "plt.figure(figsize=(8, 8))\n",
        "plt.subplot(2, 1, 1)\n",
        "plt.plot(acc, label='Training Accuracy')\n",
        "plt.plot(val_acc, label='Validation Accuracy')\n",
        "plt.legend(loc='lower right')\n",
        "plt.ylabel('Accuracy')\n",
        "plt.ylim([min(plt.ylim()),1])\n",
        "plt.title('Training and Validation Accuracy')\n",
        "\n",
        "plt.subplot(2, 1, 2)\n",
        "plt.plot(loss, label='Training Loss')\n",
        "plt.plot(val_loss, label='Validation Loss')\n",
        "plt.legend(loc='upper right')\n",
        "plt.ylabel('Cross Entropy')\n",
        "plt.ylim([0,5.0])\n",
        "plt.title('Training and Validation Loss')\n",
        "plt.xlabel('epoch')\n",
        "plt.show()"
      ],
      "execution_count": 25,
      "outputs": [
        {
          "output_type": "display_data",
          "data": {
            "image/png": "[encoded data removed]",
            "text/plain": [
              "<Figure size 576x576 with 2 Axes>"
            ]
          },
          "metadata": {
            "needs_background": "light"
          }
        }
      ]
    },
    {
      "cell_type": "markdown",
      "metadata": {
        "id": "QIfcg-V0x_Yn"
      },
      "source": [
        "### Usamos una red ya entrenada"
      ]
    },
    {
      "cell_type": "code",
      "metadata": {
        "id": "FnlISss2x_Yo",
        "colab": {
          "base_uri": "https://localhost:8080/"
        },
        "outputId": "7900e032-f029-469b-c31f-df266086b7f6"
      },
      "source": [
        "from tensorflow.keras.models import Sequential\n",
        "from tensorflow.keras.applications.resnet50 import ResNet50\n",
        "from tensorflow.keras.callbacks import EarlyStopping\n",
        "\n",
        "new_model = Sequential()\n",
        "new_model.add(ResNet50(include_top=False, weights='imagenet', pooling='avg'))\n",
        "new_model.add(tfl.Dense(y_train.shape[1], activation='softmax',trainable=True))\n",
        "new_model.compile(optimizer='rmsprop',loss='categorical_crossentropy', metrics=['accuracy'])\n",
        "new_model.summary()"
      ],
      "execution_count": 26,
      "outputs": [
        {
          "output_type": "stream",
          "text": [
            "Downloading data from https://storage.googleapis.com/tensorflow/keras-applications/resnet/resnet50_weights_tf_dim_ordering_tf_kernels_notop.h5\n",
            "94773248/94765736 [==============================] - 1s 0us/step\n",
            "94781440/94765736 [==============================] - 1s 0us/step\n",
            "Model: \"sequential_1\"\n",
            "_________________________________________________________________\n",
            "Layer (type)                 Output Shape              Param #   \n",
            "=================================================================\n",
            "resnet50 (Functional)        (None, 2048)              23587712  \n",
            "_________________________________________________________________\n",
            "dense_2 (Dense)              (None, 4)                 8196      \n",
            "=================================================================\n",
            "Total params: 23,595,908\n",
            "Trainable params: 23,542,788\n",
            "Non-trainable params: 53,120\n",
            "_________________________________________________________________\n"
          ],
          "name": "stdout"
        }
      ]
    },
    {
      "cell_type": "code",
      "metadata": {
        "id": "v4JzAQoux_Yo"
      },
      "source": [
        "#Cargamos un preprocesador del modelo\n",
        "preprocess_input = tf.keras.applications.resnet50.preprocess_input"
      ],
      "execution_count": 27,
      "outputs": []
    },
    {
      "cell_type": "code",
      "metadata": {
        "id": "GCDzzGmNx_Yo"
      },
      "source": [
        "def modelResnet(image_shape=(128,128)):\n",
        "    input_shape = image_shape + (3,)\n",
        "    base_model = tf.keras.applications.ResNet50(input_shape=input_shape,\n",
        "                                                   include_top=False, # <== Sacamos la última capa\n",
        "                                                   weights='imagenet') # From imageNet\n",
        "    \n",
        "    # Freeze the base model by making it non trainable\n",
        "    base_model.trainable = False \n",
        "\n",
        "    # create the input layer (Same as the imageNetv2 input size)\n",
        "    inputs = tf.keras.Input(shape=input_shape)\n",
        "    \n",
        "    # data preprocessing using the same weights the model was trained on\n",
        "    x = preprocess_input(inputs) \n",
        "    \n",
        "    # set training to False to avoid keeping track of statistics in the batch norm layer\n",
        "    x = base_model(x, training=False) \n",
        "    \n",
        "    # Add the new Binary classification layers\n",
        "    # use global avg pooling to summarize the info in each channel\n",
        "    x = tfl.GlobalAveragePooling2D()(x) \n",
        "\n",
        "    x = tfl.Dense(100)(x)\n",
        "    \n",
        "    #include dropout with probability of 0.2 to avoid overfitting\n",
        "    x = tfl.Dropout(0.2)(x)\n",
        "        \n",
        "    # create a prediction layer with one neuron (as a classifier only needs one)\n",
        "    prediction_layer = tfl.Dense(4,activation='softmax')\n",
        "    \n",
        "    outputs = prediction_layer(x) \n",
        "    model = tf.keras.Model(inputs, outputs)\n",
        "    \n",
        "    return model"
      ],
      "execution_count": 28,
      "outputs": []
    },
    {
      "cell_type": "code",
      "metadata": {
        "id": "9TwAcwB5x_Yp"
      },
      "source": [
        "model2 = modelResnet()"
      ],
      "execution_count": 29,
      "outputs": []
    },
    {
      "cell_type": "code",
      "metadata": {
        "id": "BTu6GjVKx_Yp"
      },
      "source": [
        "base_learning_rate = 0.01\n",
        "model2.compile(optimizer=tf.keras.optimizers.Adam(learning_rate=base_learning_rate),\n",
        "              loss=tf.keras.losses.CategoricalCrossentropy(from_logits=False),\n",
        "              metrics=['accuracy'])"
      ],
      "execution_count": 30,
      "outputs": []
    },
    {
      "cell_type": "code",
      "metadata": {
        "id": "Ck99UHprx_Yp",
        "colab": {
          "base_uri": "https://localhost:8080/"
        },
        "outputId": "68588908-faec-4446-bb67-e4cf56db3a69"
      },
      "source": [
        "model2.summary()"
      ],
      "execution_count": 31,
      "outputs": [
        {
          "output_type": "stream",
          "text": [
            "Model: \"model\"\n",
            "_________________________________________________________________\n",
            "Layer (type)                 Output Shape              Param #   \n",
            "=================================================================\n",
            "input_3 (InputLayer)         [(None, 128, 128, 3)]     0         \n",
            "_________________________________________________________________\n",
            "tf.__operators__.getitem (Sl (None, 128, 128, 3)       0         \n",
            "_________________________________________________________________\n",
            "tf.nn.bias_add (TFOpLambda)  (None, 128, 128, 3)       0         \n",
            "_________________________________________________________________\n",
            "resnet50 (Functional)        (None, 4, 4, 2048)        23587712  \n",
            "_________________________________________________________________\n",
            "global_average_pooling2d (Gl (None, 2048)              0         \n",
            "_________________________________________________________________\n",
            "dense_3 (Dense)              (None, 100)               204900    \n",
            "_________________________________________________________________\n",
            "dropout (Dropout)            (None, 100)               0         \n",
            "_________________________________________________________________\n",
            "dense_4 (Dense)              (None, 4)                 404       \n",
            "=================================================================\n",
            "Total params: 23,793,016\n",
            "Trainable params: 205,304\n",
            "Non-trainable params: 23,587,712\n",
            "_________________________________________________________________\n"
          ],
          "name": "stdout"
        }
      ]
    },
    {
      "cell_type": "code",
      "metadata": {
        "id": "qjpYgbkGx_Yp",
        "colab": {
          "base_uri": "https://localhost:8080/"
        },
        "outputId": "6a4d3bd8-c976-4bfc-8741-1bdc70a4d221"
      },
      "source": [
        "new_model.fit(X_train, y_train, validation_data=(X_test,y_test),batch_size=20, epochs=5, verbose=1)"
      ],
      "execution_count": null,
      "outputs": [
        {
          "output_type": "stream",
          "text": [
            "Epoch 1/5\n",
            "188/230 [=======================>......] - ETA: 3:37 - loss: 1.7237 - accuracy: 0.3838"
          ],
          "name": "stdout"
        }
      ]
    },
    {
      "cell_type": "code",
      "metadata": {
        "id": "4R_KaJL-x_Yp"
      },
      "source": [
        ""
      ],
      "execution_count": null,
      "outputs": []
    }
  ]
}