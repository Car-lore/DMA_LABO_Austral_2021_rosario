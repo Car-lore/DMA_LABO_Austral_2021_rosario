{
  "nbformat": 4,
  "nbformat_minor": 0,
  "metadata": {
    "kernelspec": {
      "display_name": "Python 3",
      "language": "python",
      "name": "python3"
    },
    "language_info": {
      "codemirror_mode": {
        "name": "ipython",
        "version": 3
      },
      "file_extension": ".py",
      "mimetype": "text/x-python",
      "name": "python",
      "nbconvert_exporter": "python",
      "pygments_lexer": "ipython3",
      "version": "3.8.5"
    },
    "colab": {
      "name": "clasificacion sobre las imagenes.ipynb",
      "provenance": [],
      "include_colab_link": true
    }
  },
  "cells": [
    {
      "cell_type": "markdown",
      "metadata": {
        "id": "view-in-github",
        "colab_type": "text"
      },
      "source": [
        "<a href=\"https://colab.research.google.com/github/Car-lore/DMA_LABO_Austral_2021_rosario/blob/Laboratorio-II/clasificacion_sobre_las_imagenes.ipynb\" target=\"_parent\"><img src=\"https://colab.research.google.com/assets/colab-badge.svg\" alt=\"Open In Colab\"/></a>"
      ]
    },
    {
      "cell_type": "code",
      "metadata": {
        "id": "n4R8LYi_x_YW"
      },
      "source": [
        "import os\n",
        "import sys\n",
        "from google.colab import drive\n",
        "\n",
        "import numpy as np\n",
        "from tensorflow.keras.preprocessing.image import load_img,img_to_array\n",
        "import matplotlib.pyplot as plt\n",
        "import tensorflow as tf\n",
        "from tensorflow.keras import datasets, layers, models\n",
        "from sklearn.model_selection import train_test_split\n",
        "from sklearn.preprocessing import OneHotEncoder\n",
        "from sklearn.preprocessing import OrdinalEncoder\n",
        "import tensorflow.keras.layers as tfl"
      ],
      "execution_count": 25,
      "outputs": []
    },
    {
      "cell_type": "code",
      "metadata": {
        "colab": {
          "base_uri": "https://localhost:8080/"
        },
        "id": "5FFjhWOg7HZp",
        "outputId": "05e63379-36ba-4269-ff80-4ab197db2772"
      },
      "source": [
        "drive.mount('/content/gdrive')"
      ],
      "execution_count": 26,
      "outputs": [
        {
          "output_type": "stream",
          "text": [
            "Drive already mounted at /content/gdrive; to attempt to forcibly remount, call drive.mount(\"/content/gdrive\", force_remount=True).\n"
          ],
          "name": "stdout"
        }
      ]
    },
    {
      "cell_type": "code",
      "metadata": {
        "colab": {
          "base_uri": "https://localhost:8080/"
        },
        "id": "Wj9UBBfqx_Ya",
        "outputId": "ae22b614-e5ac-48ab-c394-ddff74070ce2"
      },
      "source": [
        "folder_path='gdrive/MyDrive/imagenesG5/'\n",
        "os.listdir(folder_path)"
      ],
      "execution_count": 73,
      "outputs": [
        {
          "output_type": "execute_result",
          "data": {
            "text/plain": [
              "['MLA1000', 'MLA1039', 'MLA1144', 'MLA1051', 'MLA1648']"
            ]
          },
          "metadata": {},
          "execution_count": 73
        }
      ]
    },
    {
      "cell_type": "code",
      "metadata": {
        "colab": {
          "base_uri": "https://localhost:8080/"
        },
        "id": "h_DjE2w8x_Yc",
        "outputId": "8aec3244-398e-44a4-c7d6-cbc179b16f03"
      },
      "source": [
        "img_width=128\n",
        "img_height=128\n",
        "images = []\n",
        "labels=[]\n",
        "i=0\n",
        "clases=[]\n",
        "for folders in os.listdir(folder_path):\n",
        "    print ('Carpeta ', folders)\n",
        "    try:\n",
        "        for img in os.listdir('./{}/{}/'.format(folder_path,folders)):\n",
        "            img = load_img('./{}/{}/{}'.format(folder_path,folders,img), target_size=(img_width, img_height))\n",
        "            img = np.asarray(img)\n",
        "            img = np.expand_dims(img, axis=0)\n",
        "            images.append(img)\n",
        "            labels.append(folders)\n",
        "            i+=1\n",
        "            print('\\r', i, end='')\n",
        "    except:\n",
        "        print('Error en el archivo {}'.format(folders))\n",
        "images = np.vstack(images)"
      ],
      "execution_count": 76,
      "outputs": [
        {
          "output_type": "stream",
          "text": [
            "Carpeta  MLA1000\n",
            " 1731Carpeta  MLA1039\n",
            " 3625Carpeta  MLA1144\n",
            " 5037Carpeta  MLA1051\n",
            " 6841Carpeta  MLA1648\n",
            " 9117"
          ],
          "name": "stdout"
        }
      ]
    },
    {
      "cell_type": "code",
      "metadata": {
        "id": "SH-yAbJWx_Yd",
        "colab": {
          "base_uri": "https://localhost:8080/"
        },
        "outputId": "dda2ce4c-826f-44ab-d5ea-04c842d9f966"
      },
      "source": [
        "images.shape"
      ],
      "execution_count": 77,
      "outputs": [
        {
          "output_type": "execute_result",
          "data": {
            "text/plain": [
              "(9117, 128, 128, 3)"
            ]
          },
          "metadata": {},
          "execution_count": 77
        }
      ]
    },
    {
      "cell_type": "code",
      "metadata": {
        "id": "l2YmMF3ox_Ye",
        "colab": {
          "base_uri": "https://localhost:8080/",
          "height": 287
        },
        "outputId": "9ebc0657-993a-4bba-fc22-f14fdeb59d8a"
      },
      "source": [
        "plt.imshow(images[2, :, :, :])"
      ],
      "execution_count": 78,
      "outputs": [
        {
          "output_type": "execute_result",
          "data": {
            "text/plain": [
              "<matplotlib.image.AxesImage at 0x7fd3b97cd610>"
            ]
          },
          "metadata": {},
          "execution_count": 78
        },
        {
          "output_type": "display_data",
          "data": {
            "image/png": "[encoded data removed]",
            "text/plain": [
              "<Figure size 432x288 with 1 Axes>"
            ]
          },
          "metadata": {
            "needs_background": "light"
          }
        }
      ]
    },
    {
      "cell_type": "code",
      "metadata": {
        "id": "ixSaY5LYx_Ye",
        "colab": {
          "base_uri": "https://localhost:8080/"
        },
        "outputId": "da22630a-a7af-4f99-8c8d-03496fc54474"
      },
      "source": [
        "#Categorias\n",
        "labels"
      ],
      "execution_count": 79,
      "outputs": [
        {
          "output_type": "execute_result",
          "data": {
            "text/plain": [
              "['MLA1000',\n",
              " 'MLA1000',\n",
              " 'MLA1000',\n",
              " 'MLA1000',\n",
              " 'MLA1000',\n",
              " 'MLA1000',\n",
              " 'MLA1000',\n",
              " 'MLA1000',\n",
              " 'MLA1000',\n",
              " 'MLA1000',\n",
              " 'MLA1000',\n",
              " 'MLA1000',\n",
              " 'MLA1000',\n",
              " 'MLA1000',\n",
              " 'MLA1000',\n",
              " 'MLA1000',\n",
              " 'MLA1000',\n",
              " 'MLA1000',\n",
              " 'MLA1000',\n",
              " 'MLA1000',\n",
              " 'MLA1000',\n",
              " 'MLA1000',\n",
              " 'MLA1000',\n",
              " 'MLA1000',\n",
              " 'MLA1000',\n",
              " 'MLA1000',\n",
              " 'MLA1000',\n",
              " 'MLA1000',\n",
              " 'MLA1000',\n",
              " 'MLA1000',\n",
              " 'MLA1000',\n",
              " 'MLA1000',\n",
              " 'MLA1000',\n",
              " 'MLA1000',\n",
              " 'MLA1000',\n",
              " 'MLA1000',\n",
              " 'MLA1000',\n",
              " 'MLA1000',\n",
              " 'MLA1000',\n",
              " 'MLA1000',\n",
              " 'MLA1000',\n",
              " 'MLA1000',\n",
              " 'MLA1000',\n",
              " 'MLA1000',\n",
              " 'MLA1000',\n",
              " 'MLA1000',\n",
              " 'MLA1000',\n",
              " 'MLA1000',\n",
              " 'MLA1000',\n",
              " 'MLA1000',\n",
              " 'MLA1000',\n",
              " 'MLA1000',\n",
              " 'MLA1000',\n",
              " 'MLA1000',\n",
              " 'MLA1000',\n",
              " 'MLA1000',\n",
              " 'MLA1000',\n",
              " 'MLA1000',\n",
              " 'MLA1000',\n",
              " 'MLA1000',\n",
              " 'MLA1000',\n",
              " 'MLA1000',\n",
              " 'MLA1000',\n",
              " 'MLA1000',\n",
              " 'MLA1000',\n",
              " 'MLA1000',\n",
              " 'MLA1000',\n",
              " 'MLA1000',\n",
              " 'MLA1000',\n",
              " 'MLA1000',\n",
              " 'MLA1000',\n",
              " 'MLA1000',\n",
              " 'MLA1000',\n",
              " 'MLA1000',\n",
              " 'MLA1000',\n",
              " 'MLA1000',\n",
              " 'MLA1000',\n",
              " 'MLA1000',\n",
              " 'MLA1000',\n",
              " 'MLA1000',\n",
              " 'MLA1000',\n",
              " 'MLA1000',\n",
              " 'MLA1000',\n",
              " 'MLA1000',\n",
              " 'MLA1000',\n",
              " 'MLA1000',\n",
              " 'MLA1000',\n",
              " 'MLA1000',\n",
              " 'MLA1000',\n",
              " 'MLA1000',\n",
              " 'MLA1000',\n",
              " 'MLA1000',\n",
              " 'MLA1000',\n",
              " 'MLA1000',\n",
              " 'MLA1000',\n",
              " 'MLA1000',\n",
              " 'MLA1000',\n",
              " 'MLA1000',\n",
              " 'MLA1000',\n",
              " 'MLA1000',\n",
              " 'MLA1000',\n",
              " 'MLA1000',\n",
              " 'MLA1000',\n",
              " 'MLA1000',\n",
              " 'MLA1000',\n",
              " 'MLA1000',\n",
              " 'MLA1000',\n",
              " 'MLA1000',\n",
              " 'MLA1000',\n",
              " 'MLA1000',\n",
              " 'MLA1000',\n",
              " 'MLA1000',\n",
              " 'MLA1000',\n",
              " 'MLA1000',\n",
              " 'MLA1000',\n",
              " 'MLA1000',\n",
              " 'MLA1000',\n",
              " 'MLA1000',\n",
              " 'MLA1000',\n",
              " 'MLA1000',\n",
              " 'MLA1000',\n",
              " 'MLA1000',\n",
              " 'MLA1000',\n",
              " 'MLA1000',\n",
              " 'MLA1000',\n",
              " 'MLA1000',\n",
              " 'MLA1000',\n",
              " 'MLA1000',\n",
              " 'MLA1000',\n",
              " 'MLA1000',\n",
              " 'MLA1000',\n",
              " 'MLA1000',\n",
              " 'MLA1000',\n",
              " 'MLA1000',\n",
              " 'MLA1000',\n",
              " 'MLA1000',\n",
              " 'MLA1000',\n",
              " 'MLA1000',\n",
              " 'MLA1000',\n",
              " 'MLA1000',\n",
              " 'MLA1000',\n",
              " 'MLA1000',\n",
              " 'MLA1000',\n",
              " 'MLA1000',\n",
              " 'MLA1000',\n",
              " 'MLA1000',\n",
              " 'MLA1000',\n",
              " 'MLA1000',\n",
              " 'MLA1000',\n",
              " 'MLA1000',\n",
              " 'MLA1000',\n",
              " 'MLA1000',\n",
              " 'MLA1000',\n",
              " 'MLA1000',\n",
              " 'MLA1000',\n",
              " 'MLA1000',\n",
              " 'MLA1000',\n",
              " 'MLA1000',\n",
              " 'MLA1000',\n",
              " 'MLA1000',\n",
              " 'MLA1000',\n",
              " 'MLA1000',\n",
              " 'MLA1000',\n",
              " 'MLA1000',\n",
              " 'MLA1000',\n",
              " 'MLA1000',\n",
              " 'MLA1000',\n",
              " 'MLA1000',\n",
              " 'MLA1000',\n",
              " 'MLA1000',\n",
              " 'MLA1000',\n",
              " 'MLA1000',\n",
              " 'MLA1000',\n",
              " 'MLA1000',\n",
              " 'MLA1000',\n",
              " 'MLA1000',\n",
              " 'MLA1000',\n",
              " 'MLA1000',\n",
              " 'MLA1000',\n",
              " 'MLA1000',\n",
              " 'MLA1000',\n",
              " 'MLA1000',\n",
              " 'MLA1000',\n",
              " 'MLA1000',\n",
              " 'MLA1000',\n",
              " 'MLA1000',\n",
              " 'MLA1000',\n",
              " 'MLA1000',\n",
              " 'MLA1000',\n",
              " 'MLA1000',\n",
              " 'MLA1000',\n",
              " 'MLA1000',\n",
              " 'MLA1000',\n",
              " 'MLA1000',\n",
              " 'MLA1000',\n",
              " 'MLA1000',\n",
              " 'MLA1000',\n",
              " 'MLA1000',\n",
              " 'MLA1000',\n",
              " 'MLA1000',\n",
              " 'MLA1000',\n",
              " 'MLA1000',\n",
              " 'MLA1000',\n",
              " 'MLA1000',\n",
              " 'MLA1000',\n",
              " 'MLA1000',\n",
              " 'MLA1000',\n",
              " 'MLA1000',\n",
              " 'MLA1000',\n",
              " 'MLA1000',\n",
              " 'MLA1000',\n",
              " 'MLA1000',\n",
              " 'MLA1000',\n",
              " 'MLA1000',\n",
              " 'MLA1000',\n",
              " 'MLA1000',\n",
              " 'MLA1000',\n",
              " 'MLA1000',\n",
              " 'MLA1000',\n",
              " 'MLA1000',\n",
              " 'MLA1000',\n",
              " 'MLA1000',\n",
              " 'MLA1000',\n",
              " 'MLA1000',\n",
              " 'MLA1000',\n",
              " 'MLA1000',\n",
              " 'MLA1000',\n",
              " 'MLA1000',\n",
              " 'MLA1000',\n",
              " 'MLA1000',\n",
              " 'MLA1000',\n",
              " 'MLA1000',\n",
              " 'MLA1000',\n",
              " 'MLA1000',\n",
              " 'MLA1000',\n",
              " 'MLA1000',\n",
              " 'MLA1000',\n",
              " 'MLA1000',\n",
              " 'MLA1000',\n",
              " 'MLA1000',\n",
              " 'MLA1000',\n",
              " 'MLA1000',\n",
              " 'MLA1000',\n",
              " 'MLA1000',\n",
              " 'MLA1000',\n",
              " 'MLA1000',\n",
              " 'MLA1000',\n",
              " 'MLA1000',\n",
              " 'MLA1000',\n",
              " 'MLA1000',\n",
              " 'MLA1000',\n",
              " 'MLA1000',\n",
              " 'MLA1000',\n",
              " 'MLA1000',\n",
              " 'MLA1000',\n",
              " 'MLA1000',\n",
              " 'MLA1000',\n",
              " 'MLA1000',\n",
              " 'MLA1000',\n",
              " 'MLA1000',\n",
              " 'MLA1000',\n",
              " 'MLA1000',\n",
              " 'MLA1000',\n",
              " 'MLA1000',\n",
              " 'MLA1000',\n",
              " 'MLA1000',\n",
              " 'MLA1000',\n",
              " 'MLA1000',\n",
              " 'MLA1000',\n",
              " 'MLA1000',\n",
              " 'MLA1000',\n",
              " 'MLA1000',\n",
              " 'MLA1000',\n",
              " 'MLA1000',\n",
              " 'MLA1000',\n",
              " 'MLA1000',\n",
              " 'MLA1000',\n",
              " 'MLA1000',\n",
              " 'MLA1000',\n",
              " 'MLA1000',\n",
              " 'MLA1000',\n",
              " 'MLA1000',\n",
              " 'MLA1000',\n",
              " 'MLA1000',\n",
              " 'MLA1000',\n",
              " 'MLA1000',\n",
              " 'MLA1000',\n",
              " 'MLA1000',\n",
              " 'MLA1000',\n",
              " 'MLA1000',\n",
              " 'MLA1000',\n",
              " 'MLA1000',\n",
              " 'MLA1000',\n",
              " 'MLA1000',\n",
              " 'MLA1000',\n",
              " 'MLA1000',\n",
              " 'MLA1000',\n",
              " 'MLA1000',\n",
              " 'MLA1000',\n",
              " 'MLA1000',\n",
              " 'MLA1000',\n",
              " 'MLA1000',\n",
              " 'MLA1000',\n",
              " 'MLA1000',\n",
              " 'MLA1000',\n",
              " 'MLA1000',\n",
              " 'MLA1000',\n",
              " 'MLA1000',\n",
              " 'MLA1000',\n",
              " 'MLA1000',\n",
              " 'MLA1000',\n",
              " 'MLA1000',\n",
              " 'MLA1000',\n",
              " 'MLA1000',\n",
              " 'MLA1000',\n",
              " 'MLA1000',\n",
              " 'MLA1000',\n",
              " 'MLA1000',\n",
              " 'MLA1000',\n",
              " 'MLA1000',\n",
              " 'MLA1000',\n",
              " 'MLA1000',\n",
              " 'MLA1000',\n",
              " 'MLA1000',\n",
              " 'MLA1000',\n",
              " 'MLA1000',\n",
              " 'MLA1000',\n",
              " 'MLA1000',\n",
              " 'MLA1000',\n",
              " 'MLA1000',\n",
              " 'MLA1000',\n",
              " 'MLA1000',\n",
              " 'MLA1000',\n",
              " 'MLA1000',\n",
              " 'MLA1000',\n",
              " 'MLA1000',\n",
              " 'MLA1000',\n",
              " 'MLA1000',\n",
              " 'MLA1000',\n",
              " 'MLA1000',\n",
              " 'MLA1000',\n",
              " 'MLA1000',\n",
              " 'MLA1000',\n",
              " 'MLA1000',\n",
              " 'MLA1000',\n",
              " 'MLA1000',\n",
              " 'MLA1000',\n",
              " 'MLA1000',\n",
              " 'MLA1000',\n",
              " 'MLA1000',\n",
              " 'MLA1000',\n",
              " 'MLA1000',\n",
              " 'MLA1000',\n",
              " 'MLA1000',\n",
              " 'MLA1000',\n",
              " 'MLA1000',\n",
              " 'MLA1000',\n",
              " 'MLA1000',\n",
              " 'MLA1000',\n",
              " 'MLA1000',\n",
              " 'MLA1000',\n",
              " 'MLA1000',\n",
              " 'MLA1000',\n",
              " 'MLA1000',\n",
              " 'MLA1000',\n",
              " 'MLA1000',\n",
              " 'MLA1000',\n",
              " 'MLA1000',\n",
              " 'MLA1000',\n",
              " 'MLA1000',\n",
              " 'MLA1000',\n",
              " 'MLA1000',\n",
              " 'MLA1000',\n",
              " 'MLA1000',\n",
              " 'MLA1000',\n",
              " 'MLA1000',\n",
              " 'MLA1000',\n",
              " 'MLA1000',\n",
              " 'MLA1000',\n",
              " 'MLA1000',\n",
              " 'MLA1000',\n",
              " 'MLA1000',\n",
              " 'MLA1000',\n",
              " 'MLA1000',\n",
              " 'MLA1000',\n",
              " 'MLA1000',\n",
              " 'MLA1000',\n",
              " 'MLA1000',\n",
              " 'MLA1000',\n",
              " 'MLA1000',\n",
              " 'MLA1000',\n",
              " 'MLA1000',\n",
              " 'MLA1000',\n",
              " 'MLA1000',\n",
              " 'MLA1000',\n",
              " 'MLA1000',\n",
              " 'MLA1000',\n",
              " 'MLA1000',\n",
              " 'MLA1000',\n",
              " 'MLA1000',\n",
              " 'MLA1000',\n",
              " 'MLA1000',\n",
              " 'MLA1000',\n",
              " 'MLA1000',\n",
              " 'MLA1000',\n",
              " 'MLA1000',\n",
              " 'MLA1000',\n",
              " 'MLA1000',\n",
              " 'MLA1000',\n",
              " 'MLA1000',\n",
              " 'MLA1000',\n",
              " 'MLA1000',\n",
              " 'MLA1000',\n",
              " 'MLA1000',\n",
              " 'MLA1000',\n",
              " 'MLA1000',\n",
              " 'MLA1000',\n",
              " 'MLA1000',\n",
              " 'MLA1000',\n",
              " 'MLA1000',\n",
              " 'MLA1000',\n",
              " 'MLA1000',\n",
              " 'MLA1000',\n",
              " 'MLA1000',\n",
              " 'MLA1000',\n",
              " 'MLA1000',\n",
              " 'MLA1000',\n",
              " 'MLA1000',\n",
              " 'MLA1000',\n",
              " 'MLA1000',\n",
              " 'MLA1000',\n",
              " 'MLA1000',\n",
              " 'MLA1000',\n",
              " 'MLA1000',\n",
              " 'MLA1000',\n",
              " 'MLA1000',\n",
              " 'MLA1000',\n",
              " 'MLA1000',\n",
              " 'MLA1000',\n",
              " 'MLA1000',\n",
              " 'MLA1000',\n",
              " 'MLA1000',\n",
              " 'MLA1000',\n",
              " 'MLA1000',\n",
              " 'MLA1000',\n",
              " 'MLA1000',\n",
              " 'MLA1000',\n",
              " 'MLA1000',\n",
              " 'MLA1000',\n",
              " 'MLA1000',\n",
              " 'MLA1000',\n",
              " 'MLA1000',\n",
              " 'MLA1000',\n",
              " 'MLA1000',\n",
              " 'MLA1000',\n",
              " 'MLA1000',\n",
              " 'MLA1000',\n",
              " 'MLA1000',\n",
              " 'MLA1000',\n",
              " 'MLA1000',\n",
              " 'MLA1000',\n",
              " 'MLA1000',\n",
              " 'MLA1000',\n",
              " 'MLA1000',\n",
              " 'MLA1000',\n",
              " 'MLA1000',\n",
              " 'MLA1000',\n",
              " 'MLA1000',\n",
              " 'MLA1000',\n",
              " 'MLA1000',\n",
              " 'MLA1000',\n",
              " 'MLA1000',\n",
              " 'MLA1000',\n",
              " 'MLA1000',\n",
              " 'MLA1000',\n",
              " 'MLA1000',\n",
              " 'MLA1000',\n",
              " 'MLA1000',\n",
              " 'MLA1000',\n",
              " 'MLA1000',\n",
              " 'MLA1000',\n",
              " 'MLA1000',\n",
              " 'MLA1000',\n",
              " 'MLA1000',\n",
              " 'MLA1000',\n",
              " 'MLA1000',\n",
              " 'MLA1000',\n",
              " 'MLA1000',\n",
              " 'MLA1000',\n",
              " 'MLA1000',\n",
              " 'MLA1000',\n",
              " 'MLA1000',\n",
              " 'MLA1000',\n",
              " 'MLA1000',\n",
              " 'MLA1000',\n",
              " 'MLA1000',\n",
              " 'MLA1000',\n",
              " 'MLA1000',\n",
              " 'MLA1000',\n",
              " 'MLA1000',\n",
              " 'MLA1000',\n",
              " 'MLA1000',\n",
              " 'MLA1000',\n",
              " 'MLA1000',\n",
              " 'MLA1000',\n",
              " 'MLA1000',\n",
              " 'MLA1000',\n",
              " 'MLA1000',\n",
              " 'MLA1000',\n",
              " 'MLA1000',\n",
              " 'MLA1000',\n",
              " 'MLA1000',\n",
              " 'MLA1000',\n",
              " 'MLA1000',\n",
              " 'MLA1000',\n",
              " 'MLA1000',\n",
              " 'MLA1000',\n",
              " 'MLA1000',\n",
              " 'MLA1000',\n",
              " 'MLA1000',\n",
              " 'MLA1000',\n",
              " 'MLA1000',\n",
              " 'MLA1000',\n",
              " 'MLA1000',\n",
              " 'MLA1000',\n",
              " 'MLA1000',\n",
              " 'MLA1000',\n",
              " 'MLA1000',\n",
              " 'MLA1000',\n",
              " 'MLA1000',\n",
              " 'MLA1000',\n",
              " 'MLA1000',\n",
              " 'MLA1000',\n",
              " 'MLA1000',\n",
              " 'MLA1000',\n",
              " 'MLA1000',\n",
              " 'MLA1000',\n",
              " 'MLA1000',\n",
              " 'MLA1000',\n",
              " 'MLA1000',\n",
              " 'MLA1000',\n",
              " 'MLA1000',\n",
              " 'MLA1000',\n",
              " 'MLA1000',\n",
              " 'MLA1000',\n",
              " 'MLA1000',\n",
              " 'MLA1000',\n",
              " 'MLA1000',\n",
              " 'MLA1000',\n",
              " 'MLA1000',\n",
              " 'MLA1000',\n",
              " 'MLA1000',\n",
              " 'MLA1000',\n",
              " 'MLA1000',\n",
              " 'MLA1000',\n",
              " 'MLA1000',\n",
              " 'MLA1000',\n",
              " 'MLA1000',\n",
              " 'MLA1000',\n",
              " 'MLA1000',\n",
              " 'MLA1000',\n",
              " 'MLA1000',\n",
              " 'MLA1000',\n",
              " 'MLA1000',\n",
              " 'MLA1000',\n",
              " 'MLA1000',\n",
              " 'MLA1000',\n",
              " 'MLA1000',\n",
              " 'MLA1000',\n",
              " 'MLA1000',\n",
              " 'MLA1000',\n",
              " 'MLA1000',\n",
              " 'MLA1000',\n",
              " 'MLA1000',\n",
              " 'MLA1000',\n",
              " 'MLA1000',\n",
              " 'MLA1000',\n",
              " 'MLA1000',\n",
              " 'MLA1000',\n",
              " 'MLA1000',\n",
              " 'MLA1000',\n",
              " 'MLA1000',\n",
              " 'MLA1000',\n",
              " 'MLA1000',\n",
              " 'MLA1000',\n",
              " 'MLA1000',\n",
              " 'MLA1000',\n",
              " 'MLA1000',\n",
              " 'MLA1000',\n",
              " 'MLA1000',\n",
              " 'MLA1000',\n",
              " 'MLA1000',\n",
              " 'MLA1000',\n",
              " 'MLA1000',\n",
              " 'MLA1000',\n",
              " 'MLA1000',\n",
              " 'MLA1000',\n",
              " 'MLA1000',\n",
              " 'MLA1000',\n",
              " 'MLA1000',\n",
              " 'MLA1000',\n",
              " 'MLA1000',\n",
              " 'MLA1000',\n",
              " 'MLA1000',\n",
              " 'MLA1000',\n",
              " 'MLA1000',\n",
              " 'MLA1000',\n",
              " 'MLA1000',\n",
              " 'MLA1000',\n",
              " 'MLA1000',\n",
              " 'MLA1000',\n",
              " 'MLA1000',\n",
              " 'MLA1000',\n",
              " 'MLA1000',\n",
              " 'MLA1000',\n",
              " 'MLA1000',\n",
              " 'MLA1000',\n",
              " 'MLA1000',\n",
              " 'MLA1000',\n",
              " 'MLA1000',\n",
              " 'MLA1000',\n",
              " 'MLA1000',\n",
              " 'MLA1000',\n",
              " 'MLA1000',\n",
              " 'MLA1000',\n",
              " 'MLA1000',\n",
              " 'MLA1000',\n",
              " 'MLA1000',\n",
              " 'MLA1000',\n",
              " 'MLA1000',\n",
              " 'MLA1000',\n",
              " 'MLA1000',\n",
              " 'MLA1000',\n",
              " 'MLA1000',\n",
              " 'MLA1000',\n",
              " 'MLA1000',\n",
              " 'MLA1000',\n",
              " 'MLA1000',\n",
              " 'MLA1000',\n",
              " 'MLA1000',\n",
              " 'MLA1000',\n",
              " 'MLA1000',\n",
              " 'MLA1000',\n",
              " 'MLA1000',\n",
              " 'MLA1000',\n",
              " 'MLA1000',\n",
              " 'MLA1000',\n",
              " 'MLA1000',\n",
              " 'MLA1000',\n",
              " 'MLA1000',\n",
              " 'MLA1000',\n",
              " 'MLA1000',\n",
              " 'MLA1000',\n",
              " 'MLA1000',\n",
              " 'MLA1000',\n",
              " 'MLA1000',\n",
              " 'MLA1000',\n",
              " 'MLA1000',\n",
              " 'MLA1000',\n",
              " 'MLA1000',\n",
              " 'MLA1000',\n",
              " 'MLA1000',\n",
              " 'MLA1000',\n",
              " 'MLA1000',\n",
              " 'MLA1000',\n",
              " 'MLA1000',\n",
              " 'MLA1000',\n",
              " 'MLA1000',\n",
              " 'MLA1000',\n",
              " 'MLA1000',\n",
              " 'MLA1000',\n",
              " 'MLA1000',\n",
              " 'MLA1000',\n",
              " 'MLA1000',\n",
              " 'MLA1000',\n",
              " 'MLA1000',\n",
              " 'MLA1000',\n",
              " 'MLA1000',\n",
              " 'MLA1000',\n",
              " 'MLA1000',\n",
              " 'MLA1000',\n",
              " 'MLA1000',\n",
              " 'MLA1000',\n",
              " 'MLA1000',\n",
              " 'MLA1000',\n",
              " 'MLA1000',\n",
              " 'MLA1000',\n",
              " 'MLA1000',\n",
              " 'MLA1000',\n",
              " 'MLA1000',\n",
              " 'MLA1000',\n",
              " 'MLA1000',\n",
              " 'MLA1000',\n",
              " 'MLA1000',\n",
              " 'MLA1000',\n",
              " 'MLA1000',\n",
              " 'MLA1000',\n",
              " 'MLA1000',\n",
              " 'MLA1000',\n",
              " 'MLA1000',\n",
              " 'MLA1000',\n",
              " 'MLA1000',\n",
              " 'MLA1000',\n",
              " 'MLA1000',\n",
              " 'MLA1000',\n",
              " 'MLA1000',\n",
              " 'MLA1000',\n",
              " 'MLA1000',\n",
              " 'MLA1000',\n",
              " 'MLA1000',\n",
              " 'MLA1000',\n",
              " 'MLA1000',\n",
              " 'MLA1000',\n",
              " 'MLA1000',\n",
              " 'MLA1000',\n",
              " 'MLA1000',\n",
              " 'MLA1000',\n",
              " 'MLA1000',\n",
              " 'MLA1000',\n",
              " 'MLA1000',\n",
              " 'MLA1000',\n",
              " 'MLA1000',\n",
              " 'MLA1000',\n",
              " 'MLA1000',\n",
              " 'MLA1000',\n",
              " 'MLA1000',\n",
              " 'MLA1000',\n",
              " 'MLA1000',\n",
              " 'MLA1000',\n",
              " 'MLA1000',\n",
              " 'MLA1000',\n",
              " 'MLA1000',\n",
              " 'MLA1000',\n",
              " 'MLA1000',\n",
              " 'MLA1000',\n",
              " 'MLA1000',\n",
              " 'MLA1000',\n",
              " 'MLA1000',\n",
              " 'MLA1000',\n",
              " 'MLA1000',\n",
              " 'MLA1000',\n",
              " 'MLA1000',\n",
              " 'MLA1000',\n",
              " 'MLA1000',\n",
              " 'MLA1000',\n",
              " 'MLA1000',\n",
              " 'MLA1000',\n",
              " 'MLA1000',\n",
              " 'MLA1000',\n",
              " 'MLA1000',\n",
              " 'MLA1000',\n",
              " 'MLA1000',\n",
              " 'MLA1000',\n",
              " 'MLA1000',\n",
              " 'MLA1000',\n",
              " 'MLA1000',\n",
              " 'MLA1000',\n",
              " 'MLA1000',\n",
              " 'MLA1000',\n",
              " 'MLA1000',\n",
              " 'MLA1000',\n",
              " 'MLA1000',\n",
              " 'MLA1000',\n",
              " 'MLA1000',\n",
              " 'MLA1000',\n",
              " 'MLA1000',\n",
              " 'MLA1000',\n",
              " 'MLA1000',\n",
              " 'MLA1000',\n",
              " 'MLA1000',\n",
              " 'MLA1000',\n",
              " 'MLA1000',\n",
              " 'MLA1000',\n",
              " 'MLA1000',\n",
              " 'MLA1000',\n",
              " 'MLA1000',\n",
              " 'MLA1000',\n",
              " 'MLA1000',\n",
              " 'MLA1000',\n",
              " 'MLA1000',\n",
              " 'MLA1000',\n",
              " 'MLA1000',\n",
              " 'MLA1000',\n",
              " 'MLA1000',\n",
              " 'MLA1000',\n",
              " 'MLA1000',\n",
              " 'MLA1000',\n",
              " 'MLA1000',\n",
              " 'MLA1000',\n",
              " 'MLA1000',\n",
              " 'MLA1000',\n",
              " 'MLA1000',\n",
              " 'MLA1000',\n",
              " 'MLA1000',\n",
              " 'MLA1000',\n",
              " 'MLA1000',\n",
              " 'MLA1000',\n",
              " 'MLA1000',\n",
              " 'MLA1000',\n",
              " 'MLA1000',\n",
              " 'MLA1000',\n",
              " 'MLA1000',\n",
              " 'MLA1000',\n",
              " 'MLA1000',\n",
              " 'MLA1000',\n",
              " 'MLA1000',\n",
              " 'MLA1000',\n",
              " 'MLA1000',\n",
              " 'MLA1000',\n",
              " 'MLA1000',\n",
              " 'MLA1000',\n",
              " 'MLA1000',\n",
              " 'MLA1000',\n",
              " 'MLA1000',\n",
              " 'MLA1000',\n",
              " 'MLA1000',\n",
              " 'MLA1000',\n",
              " 'MLA1000',\n",
              " 'MLA1000',\n",
              " 'MLA1000',\n",
              " 'MLA1000',\n",
              " 'MLA1000',\n",
              " 'MLA1000',\n",
              " 'MLA1000',\n",
              " 'MLA1000',\n",
              " 'MLA1000',\n",
              " 'MLA1000',\n",
              " 'MLA1000',\n",
              " 'MLA1000',\n",
              " 'MLA1000',\n",
              " 'MLA1000',\n",
              " 'MLA1000',\n",
              " 'MLA1000',\n",
              " 'MLA1000',\n",
              " 'MLA1000',\n",
              " 'MLA1000',\n",
              " 'MLA1000',\n",
              " 'MLA1000',\n",
              " 'MLA1000',\n",
              " 'MLA1000',\n",
              " 'MLA1000',\n",
              " 'MLA1000',\n",
              " 'MLA1000',\n",
              " 'MLA1000',\n",
              " 'MLA1000',\n",
              " 'MLA1000',\n",
              " 'MLA1000',\n",
              " 'MLA1000',\n",
              " 'MLA1000',\n",
              " 'MLA1000',\n",
              " 'MLA1000',\n",
              " 'MLA1000',\n",
              " 'MLA1000',\n",
              " 'MLA1000',\n",
              " 'MLA1000',\n",
              " 'MLA1000',\n",
              " 'MLA1000',\n",
              " 'MLA1000',\n",
              " 'MLA1000',\n",
              " 'MLA1000',\n",
              " 'MLA1000',\n",
              " 'MLA1000',\n",
              " 'MLA1000',\n",
              " 'MLA1000',\n",
              " 'MLA1000',\n",
              " 'MLA1000',\n",
              " 'MLA1000',\n",
              " 'MLA1000',\n",
              " 'MLA1000',\n",
              " 'MLA1000',\n",
              " 'MLA1000',\n",
              " 'MLA1000',\n",
              " 'MLA1000',\n",
              " 'MLA1000',\n",
              " 'MLA1000',\n",
              " 'MLA1000',\n",
              " 'MLA1000',\n",
              " 'MLA1000',\n",
              " 'MLA1000',\n",
              " 'MLA1000',\n",
              " 'MLA1000',\n",
              " 'MLA1000',\n",
              " 'MLA1000',\n",
              " 'MLA1000',\n",
              " 'MLA1000',\n",
              " 'MLA1000',\n",
              " 'MLA1000',\n",
              " 'MLA1000',\n",
              " 'MLA1000',\n",
              " 'MLA1000',\n",
              " 'MLA1000',\n",
              " 'MLA1000',\n",
              " 'MLA1000',\n",
              " 'MLA1000',\n",
              " 'MLA1000',\n",
              " 'MLA1000',\n",
              " 'MLA1000',\n",
              " 'MLA1000',\n",
              " 'MLA1000',\n",
              " 'MLA1000',\n",
              " 'MLA1000',\n",
              " 'MLA1000',\n",
              " 'MLA1000',\n",
              " 'MLA1000',\n",
              " 'MLA1000',\n",
              " 'MLA1000',\n",
              " 'MLA1000',\n",
              " 'MLA1000',\n",
              " 'MLA1000',\n",
              " 'MLA1000',\n",
              " 'MLA1000',\n",
              " 'MLA1000',\n",
              " 'MLA1000',\n",
              " 'MLA1000',\n",
              " 'MLA1000',\n",
              " 'MLA1000',\n",
              " 'MLA1000',\n",
              " 'MLA1000',\n",
              " 'MLA1000',\n",
              " 'MLA1000',\n",
              " 'MLA1000',\n",
              " 'MLA1000',\n",
              " 'MLA1000',\n",
              " 'MLA1000',\n",
              " 'MLA1000',\n",
              " 'MLA1000',\n",
              " 'MLA1000',\n",
              " 'MLA1000',\n",
              " 'MLA1000',\n",
              " 'MLA1000',\n",
              " 'MLA1000',\n",
              " 'MLA1000',\n",
              " 'MLA1000',\n",
              " 'MLA1000',\n",
              " 'MLA1000',\n",
              " 'MLA1000',\n",
              " 'MLA1000',\n",
              " 'MLA1000',\n",
              " 'MLA1000',\n",
              " 'MLA1000',\n",
              " 'MLA1000',\n",
              " 'MLA1000',\n",
              " 'MLA1000',\n",
              " 'MLA1000',\n",
              " 'MLA1000',\n",
              " 'MLA1000',\n",
              " 'MLA1000',\n",
              " 'MLA1000',\n",
              " 'MLA1000',\n",
              " 'MLA1000',\n",
              " 'MLA1000',\n",
              " 'MLA1000',\n",
              " 'MLA1000',\n",
              " 'MLA1000',\n",
              " 'MLA1000',\n",
              " 'MLA1000',\n",
              " 'MLA1000',\n",
              " 'MLA1000',\n",
              " 'MLA1000',\n",
              " 'MLA1000',\n",
              " 'MLA1000',\n",
              " 'MLA1000',\n",
              " 'MLA1000',\n",
              " 'MLA1000',\n",
              " 'MLA1000',\n",
              " 'MLA1000',\n",
              " 'MLA1000',\n",
              " 'MLA1000',\n",
              " 'MLA1000',\n",
              " 'MLA1000',\n",
              " 'MLA1000',\n",
              " 'MLA1000',\n",
              " 'MLA1000',\n",
              " 'MLA1000',\n",
              " 'MLA1000',\n",
              " 'MLA1000',\n",
              " 'MLA1000',\n",
              " 'MLA1000',\n",
              " 'MLA1000',\n",
              " 'MLA1000',\n",
              " 'MLA1000',\n",
              " 'MLA1000',\n",
              " 'MLA1000',\n",
              " 'MLA1000',\n",
              " 'MLA1000',\n",
              " 'MLA1000',\n",
              " 'MLA1000',\n",
              " 'MLA1000',\n",
              " 'MLA1000',\n",
              " 'MLA1000',\n",
              " 'MLA1000',\n",
              " 'MLA1000',\n",
              " 'MLA1000',\n",
              " 'MLA1000',\n",
              " 'MLA1000',\n",
              " 'MLA1000',\n",
              " 'MLA1000',\n",
              " 'MLA1000',\n",
              " 'MLA1000',\n",
              " 'MLA1000',\n",
              " ...]"
            ]
          },
          "metadata": {},
          "execution_count": 79
        }
      ]
    },
    {
      "cell_type": "code",
      "metadata": {
        "id": "mocL0NoPx_Yf"
      },
      "source": [
        "# Esto sirve si vamos a predecir valores binarios\n",
        "\n",
        "#encoder=OrdinalEncoder()\n",
        "#encoder.fit(np.array(labels).reshape(-1,1))\n",
        "#y=encoder.transform(np.array(labels).reshape(-1,1))\n",
        "#X=images/255. # escalamos para que vaya de 0 a 1"
      ],
      "execution_count": null,
      "outputs": []
    },
    {
      "cell_type": "code",
      "metadata": {
        "id": "LaTROyc3x_Yg"
      },
      "source": [
        "# Si tenemos más de dos posibles valores, nos conviene esto\n",
        "\n",
        "encoder=OneHotEncoder()\n",
        "encoder.fit(np.array(labels).reshape(-1,1))\n",
        "y=encoder.transform(np.array(labels).reshape(-1,1))\n",
        "X=images/255."
      ],
      "execution_count": 80,
      "outputs": []
    },
    {
      "cell_type": "code",
      "metadata": {
        "id": "E5hL49Bax_Yh",
        "colab": {
          "base_uri": "https://localhost:8080/",
          "height": 173
        },
        "outputId": "f96817b4-464b-432f-83c9-47204068307b"
      },
      "source": [
        "y.todense()"
      ],
      "execution_count": 4,
      "outputs": [
        {
          "output_type": "error",
          "ename": "NameError",
          "evalue": "ignored",
          "traceback": [
            "\u001b[0;31m---------------------------------------------------------------------------\u001b[0m",
            "\u001b[0;31mNameError\u001b[0m                                 Traceback (most recent call last)",
            "\u001b[0;32m<ipython-input-4-3278d2582052>\u001b[0m in \u001b[0;36m<module>\u001b[0;34m()\u001b[0m\n\u001b[0;32m----> 1\u001b[0;31m \u001b[0my\u001b[0m\u001b[0;34m.\u001b[0m\u001b[0mtodense\u001b[0m\u001b[0;34m(\u001b[0m\u001b[0;34m)\u001b[0m\u001b[0;34m\u001b[0m\u001b[0;34m\u001b[0m\u001b[0m\n\u001b[0m",
            "\u001b[0;31mNameError\u001b[0m: name 'y' is not defined"
          ]
        }
      ]
    },
    {
      "cell_type": "code",
      "metadata": {
        "id": "geRZv74yx_Yi"
      },
      "source": [
        "# Como ya tengo mis x y mis y borro los labels e images para ahorrar memoria\n",
        "\n",
        "del labels,images"
      ],
      "execution_count": 37,
      "outputs": []
    },
    {
      "cell_type": "code",
      "metadata": {
        "id": "RP4pO3BXx_Yj",
        "colab": {
          "base_uri": "https://localhost:8080/",
          "height": 173
        },
        "outputId": "f9d82f09-028f-4a02-e425-ec3ad63e1265"
      },
      "source": [
        "X_train, X_test, y_train, y_test = train_test_split(X, y, test_size=0.33, random_state=42)"
      ],
      "execution_count": 3,
      "outputs": [
        {
          "output_type": "error",
          "ename": "NameError",
          "evalue": "ignored",
          "traceback": [
            "\u001b[0;31m---------------------------------------------------------------------------\u001b[0m",
            "\u001b[0;31mNameError\u001b[0m                                 Traceback (most recent call last)",
            "\u001b[0;32m<ipython-input-3-dea611e03200>\u001b[0m in \u001b[0;36m<module>\u001b[0;34m()\u001b[0m\n\u001b[0;32m----> 1\u001b[0;31m \u001b[0mX_train\u001b[0m\u001b[0;34m,\u001b[0m \u001b[0mX_test\u001b[0m\u001b[0;34m,\u001b[0m \u001b[0my_train\u001b[0m\u001b[0;34m,\u001b[0m \u001b[0my_test\u001b[0m \u001b[0;34m=\u001b[0m \u001b[0mtrain_test_split\u001b[0m\u001b[0;34m(\u001b[0m\u001b[0mX\u001b[0m\u001b[0;34m,\u001b[0m \u001b[0my\u001b[0m\u001b[0;34m,\u001b[0m \u001b[0mtest_size\u001b[0m\u001b[0;34m=\u001b[0m\u001b[0;36m0.33\u001b[0m\u001b[0;34m,\u001b[0m \u001b[0mrandom_state\u001b[0m\u001b[0;34m=\u001b[0m\u001b[0;36m42\u001b[0m\u001b[0;34m)\u001b[0m\u001b[0;34m\u001b[0m\u001b[0;34m\u001b[0m\u001b[0m\n\u001b[0m",
            "\u001b[0;31mNameError\u001b[0m: name 'train_test_split' is not defined"
          ]
        }
      ]
    },
    {
      "cell_type": "code",
      "metadata": {
        "id": "Bajn7Py7x_Yj",
        "colab": {
          "base_uri": "https://localhost:8080/"
        },
        "outputId": "89920df2-b332-4e6e-a663-4e245e3052f0"
      },
      "source": [
        "X_train.shape"
      ],
      "execution_count": 83,
      "outputs": [
        {
          "output_type": "execute_result",
          "data": {
            "text/plain": [
              "(6108, 128, 128, 3)"
            ]
          },
          "metadata": {},
          "execution_count": 83
        }
      ]
    },
    {
      "cell_type": "code",
      "metadata": {
        "id": "agUDhGdCx_Yk",
        "colab": {
          "base_uri": "https://localhost:8080/"
        },
        "outputId": "acd065d2-c816-4e40-e436-0614854daea5"
      },
      "source": [
        "X_test.shape"
      ],
      "execution_count": 84,
      "outputs": [
        {
          "output_type": "execute_result",
          "data": {
            "text/plain": [
              "(3009, 128, 128, 3)"
            ]
          },
          "metadata": {},
          "execution_count": 84
        }
      ]
    },
    {
      "cell_type": "code",
      "metadata": {
        "id": "BrPG0rBUx_Yk",
        "colab": {
          "base_uri": "https://localhost:8080/"
        },
        "outputId": "be74a549-f86e-46e0-be40-142313929239"
      },
      "source": [
        "y_train.shape"
      ],
      "execution_count": 85,
      "outputs": [
        {
          "output_type": "execute_result",
          "data": {
            "text/plain": [
              "(6108, 5)"
            ]
          },
          "metadata": {},
          "execution_count": 85
        }
      ]
    },
    {
      "cell_type": "code",
      "metadata": {
        "id": "H61xzGC0x_Yl",
        "colab": {
          "base_uri": "https://localhost:8080/"
        },
        "outputId": "22a39bca-a42e-48c6-e13d-1eb61d26e9fe"
      },
      "source": [
        "y_test.shape"
      ],
      "execution_count": 86,
      "outputs": [
        {
          "output_type": "execute_result",
          "data": {
            "text/plain": [
              "(3009, 5)"
            ]
          },
          "metadata": {},
          "execution_count": 86
        }
      ]
    },
    {
      "cell_type": "code",
      "metadata": {
        "id": "fB9CdU8tx_Yl",
        "colab": {
          "base_uri": "https://localhost:8080/"
        },
        "outputId": "8c8ec297-5716-4695-854b-9f2af6f0738e"
      },
      "source": [
        "y_test.todense()"
      ],
      "execution_count": 87,
      "outputs": [
        {
          "output_type": "execute_result",
          "data": {
            "text/plain": [
              "matrix([[0., 1., 0., 0., 0.],\n",
              "        [0., 1., 0., 0., 0.],\n",
              "        [0., 0., 0., 0., 1.],\n",
              "        ...,\n",
              "        [0., 0., 0., 0., 1.],\n",
              "        [1., 0., 0., 0., 0.],\n",
              "        [0., 0., 1., 0., 0.]])"
            ]
          },
          "metadata": {},
          "execution_count": 87
        }
      ]
    },
    {
      "cell_type": "code",
      "metadata": {
        "id": "HczuIrXAx_Yl",
        "colab": {
          "base_uri": "https://localhost:8080/",
          "height": 248
        },
        "outputId": "5b01dff5-85c8-46ac-ca95-1b4b4446b9dc"
      },
      "source": [
        "model = models.Sequential()\n",
        "model.add(layers.Conv2D(32, (3, 3), activation='relu', input_shape=(128, 128, 3)))\n",
        "model.add(layers.MaxPooling2D((2, 2)))\n",
        "model.add(layers.Conv2D(32, (3, 3), activation='relu'))\n",
        "model.add(layers.MaxPooling2D((2, 2)))\n",
        "model.add(layers.Conv2D(32, (3, 3), activation='relu'))\n",
        "model.add(layers.MaxPooling2D((2, 2)))\n",
        "model.add(layers.Flatten())\n",
        "model.add(layers.Dense(100,activation='relu'))\n",
        "#model.add(layers.Dense(1,activation='sigmoid'))\n",
        "model.add(layers.Dense(2,activation='softmax'))"
      ],
      "execution_count": 2,
      "outputs": [
        {
          "output_type": "error",
          "ename": "NameError",
          "evalue": "ignored",
          "traceback": [
            "\u001b[0;31m---------------------------------------------------------------------------\u001b[0m",
            "\u001b[0;31mNameError\u001b[0m                                 Traceback (most recent call last)",
            "\u001b[0;32m<ipython-input-2-714b1ca9c88a>\u001b[0m in \u001b[0;36m<module>\u001b[0;34m()\u001b[0m\n\u001b[0;32m----> 1\u001b[0;31m \u001b[0mmodel\u001b[0m \u001b[0;34m=\u001b[0m \u001b[0mmodels\u001b[0m\u001b[0;34m.\u001b[0m\u001b[0mSequential\u001b[0m\u001b[0;34m(\u001b[0m\u001b[0;34m)\u001b[0m\u001b[0;34m\u001b[0m\u001b[0;34m\u001b[0m\u001b[0m\n\u001b[0m\u001b[1;32m      2\u001b[0m \u001b[0mmodel\u001b[0m\u001b[0;34m.\u001b[0m\u001b[0madd\u001b[0m\u001b[0;34m(\u001b[0m\u001b[0mlayers\u001b[0m\u001b[0;34m.\u001b[0m\u001b[0mConv2D\u001b[0m\u001b[0;34m(\u001b[0m\u001b[0;36m32\u001b[0m\u001b[0;34m,\u001b[0m \u001b[0;34m(\u001b[0m\u001b[0;36m3\u001b[0m\u001b[0;34m,\u001b[0m \u001b[0;36m3\u001b[0m\u001b[0;34m)\u001b[0m\u001b[0;34m,\u001b[0m \u001b[0mactivation\u001b[0m\u001b[0;34m=\u001b[0m\u001b[0;34m'relu'\u001b[0m\u001b[0;34m,\u001b[0m \u001b[0minput_shape\u001b[0m\u001b[0;34m=\u001b[0m\u001b[0;34m(\u001b[0m\u001b[0;36m128\u001b[0m\u001b[0;34m,\u001b[0m \u001b[0;36m128\u001b[0m\u001b[0;34m,\u001b[0m \u001b[0;36m3\u001b[0m\u001b[0;34m)\u001b[0m\u001b[0;34m)\u001b[0m\u001b[0;34m)\u001b[0m\u001b[0;34m\u001b[0m\u001b[0;34m\u001b[0m\u001b[0m\n\u001b[1;32m      3\u001b[0m \u001b[0mmodel\u001b[0m\u001b[0;34m.\u001b[0m\u001b[0madd\u001b[0m\u001b[0;34m(\u001b[0m\u001b[0mlayers\u001b[0m\u001b[0;34m.\u001b[0m\u001b[0mMaxPooling2D\u001b[0m\u001b[0;34m(\u001b[0m\u001b[0;34m(\u001b[0m\u001b[0;36m2\u001b[0m\u001b[0;34m,\u001b[0m \u001b[0;36m2\u001b[0m\u001b[0;34m)\u001b[0m\u001b[0;34m)\u001b[0m\u001b[0;34m)\u001b[0m\u001b[0;34m\u001b[0m\u001b[0;34m\u001b[0m\u001b[0m\n\u001b[1;32m      4\u001b[0m \u001b[0mmodel\u001b[0m\u001b[0;34m.\u001b[0m\u001b[0madd\u001b[0m\u001b[0;34m(\u001b[0m\u001b[0mlayers\u001b[0m\u001b[0;34m.\u001b[0m\u001b[0mConv2D\u001b[0m\u001b[0;34m(\u001b[0m\u001b[0;36m32\u001b[0m\u001b[0;34m,\u001b[0m \u001b[0;34m(\u001b[0m\u001b[0;36m3\u001b[0m\u001b[0;34m,\u001b[0m \u001b[0;36m3\u001b[0m\u001b[0;34m)\u001b[0m\u001b[0;34m,\u001b[0m \u001b[0mactivation\u001b[0m\u001b[0;34m=\u001b[0m\u001b[0;34m'relu'\u001b[0m\u001b[0;34m)\u001b[0m\u001b[0;34m)\u001b[0m\u001b[0;34m\u001b[0m\u001b[0;34m\u001b[0m\u001b[0m\n\u001b[1;32m      5\u001b[0m \u001b[0mmodel\u001b[0m\u001b[0;34m.\u001b[0m\u001b[0madd\u001b[0m\u001b[0;34m(\u001b[0m\u001b[0mlayers\u001b[0m\u001b[0;34m.\u001b[0m\u001b[0mMaxPooling2D\u001b[0m\u001b[0;34m(\u001b[0m\u001b[0;34m(\u001b[0m\u001b[0;36m2\u001b[0m\u001b[0;34m,\u001b[0m \u001b[0;36m2\u001b[0m\u001b[0;34m)\u001b[0m\u001b[0;34m)\u001b[0m\u001b[0;34m)\u001b[0m\u001b[0;34m\u001b[0m\u001b[0;34m\u001b[0m\u001b[0m\n",
            "\u001b[0;31mNameError\u001b[0m: name 'models' is not defined"
          ]
        }
      ]
    },
    {
      "cell_type": "code",
      "metadata": {
        "id": "PEDIt2-cx_Ym",
        "colab": {
          "base_uri": "https://localhost:8080/"
        },
        "outputId": "47c34444-3026-4286-abd5-fd8af24bd039"
      },
      "source": [
        "model.summary()"
      ],
      "execution_count": 89,
      "outputs": [
        {
          "output_type": "stream",
          "text": [
            "Model: \"sequential_3\"\n",
            "_________________________________________________________________\n",
            "Layer (type)                 Output Shape              Param #   \n",
            "=================================================================\n",
            "conv2d_6 (Conv2D)            (None, 126, 126, 32)      896       \n",
            "_________________________________________________________________\n",
            "max_pooling2d_6 (MaxPooling2 (None, 63, 63, 32)        0         \n",
            "_________________________________________________________________\n",
            "conv2d_7 (Conv2D)            (None, 61, 61, 32)        9248      \n",
            "_________________________________________________________________\n",
            "max_pooling2d_7 (MaxPooling2 (None, 30, 30, 32)        0         \n",
            "_________________________________________________________________\n",
            "conv2d_8 (Conv2D)            (None, 28, 28, 32)        9248      \n",
            "_________________________________________________________________\n",
            "max_pooling2d_8 (MaxPooling2 (None, 14, 14, 32)        0         \n",
            "_________________________________________________________________\n",
            "flatten_2 (Flatten)          (None, 6272)              0         \n",
            "_________________________________________________________________\n",
            "dense_6 (Dense)              (None, 100)               627300    \n",
            "_________________________________________________________________\n",
            "dense_7 (Dense)              (None, 2)                 202       \n",
            "=================================================================\n",
            "Total params: 646,894\n",
            "Trainable params: 646,894\n",
            "Non-trainable params: 0\n",
            "_________________________________________________________________\n"
          ],
          "name": "stdout"
        }
      ]
    },
    {
      "cell_type": "code",
      "metadata": {
        "id": "EBC-Wc7sx_Ym"
      },
      "source": [
        "# esto lo uso si tengo binary\n",
        "#model.compile(optimizer='adam',\n",
        "#              loss=tf.keras.losses.BinaryCrossentropy(),\n",
        "#              metrics=['accuracy'])"
      ],
      "execution_count": null,
      "outputs": []
    },
    {
      "cell_type": "code",
      "metadata": {
        "id": "TARLu9ynx_Ym"
      },
      "source": [
        "model.compile(optimizer='adam',\n",
        "              loss=tf.keras.losses.CategoricalCrossentropy(),\n",
        "              metrics=['accuracy'])"
      ],
      "execution_count": 90,
      "outputs": []
    },
    {
      "cell_type": "code",
      "metadata": {
        "id": "319TBmt1x_Ym"
      },
      "source": [
        "y_train=y_train.todense()\n",
        "y_test=y_test.todense()"
      ],
      "execution_count": 91,
      "outputs": []
    },
    {
      "cell_type": "code",
      "metadata": {
        "id": "j2Bs5jo8x_Yn",
        "colab": {
          "base_uri": "https://localhost:8080/",
          "height": 192
        },
        "outputId": "3148d07f-504e-47ae-f856-c12f54d51144"
      },
      "source": [
        "history = model.fit(X_train, y_train, epochs=4,\n",
        "                    validation_data=(X_test,y_test))"
      ],
      "execution_count": 1,
      "outputs": [
        {
          "output_type": "error",
          "ename": "NameError",
          "evalue": "ignored",
          "traceback": [
            "\u001b[0;31m---------------------------------------------------------------------------\u001b[0m",
            "\u001b[0;31mNameError\u001b[0m                                 Traceback (most recent call last)",
            "\u001b[0;32m<ipython-input-1-35db616ebe11>\u001b[0m in \u001b[0;36m<module>\u001b[0;34m()\u001b[0m\n\u001b[0;32m----> 1\u001b[0;31m history = model.fit(X_train, y_train, epochs=4,\n\u001b[0m\u001b[1;32m      2\u001b[0m                     validation_data=(X_test,y_test))\n",
            "\u001b[0;31mNameError\u001b[0m: name 'model' is not defined"
          ]
        }
      ]
    },
    {
      "cell_type": "code",
      "metadata": {
        "id": "rhvue4L_x_Yn",
        "colab": {
          "base_uri": "https://localhost:8080/",
          "height": 513
        },
        "outputId": "4649acd6-4116-4f08-e362-c49a474619ff"
      },
      "source": [
        "#Grafiquemos los resultados\n",
        "acc = [0.] + history.history['accuracy']\n",
        "val_acc = [0.] + history.history['val_accuracy']\n",
        "\n",
        "loss = history.history['loss']\n",
        "val_loss = history.history['val_loss']\n",
        "\n",
        "plt.figure(figsize=(8, 8))\n",
        "plt.subplot(2, 1, 1)\n",
        "plt.plot(acc, label='Training Accuracy')\n",
        "plt.plot(val_acc, label='Validation Accuracy')\n",
        "plt.legend(loc='lower right')\n",
        "plt.ylabel('Accuracy')\n",
        "plt.ylim([min(plt.ylim()),1])\n",
        "plt.title('Training and Validation Accuracy')\n",
        "\n",
        "plt.subplot(2, 1, 2)\n",
        "plt.plot(loss, label='Training Loss')\n",
        "plt.plot(val_loss, label='Validation Loss')\n",
        "plt.legend(loc='upper right')\n",
        "plt.ylabel('Cross Entropy')\n",
        "plt.ylim([0,5.0])\n",
        "plt.title('Training and Validation Loss')\n",
        "plt.xlabel('epoch')\n",
        "plt.show()"
      ],
      "execution_count": 49,
      "outputs": [
        {
          "output_type": "display_data",
          "data": {
            "image/png": "[encoded data removed]",
            "text/plain": [
              "<Figure size 576x576 with 2 Axes>"
            ]
          },
          "metadata": {
            "needs_background": "light"
          }
        }
      ]
    },
    {
      "cell_type": "markdown",
      "metadata": {
        "id": "QIfcg-V0x_Yn"
      },
      "source": [
        "### Usamos una red ya entrenada"
      ]
    },
    {
      "cell_type": "code",
      "metadata": {
        "id": "FnlISss2x_Yo",
        "colab": {
          "base_uri": "https://localhost:8080/"
        },
        "outputId": "5957f28f-9622-4717-dd8c-2a054c53da77"
      },
      "source": [
        "from tensorflow.keras.models import Sequential\n",
        "from tensorflow.keras.applications.resnet50 import ResNet50\n",
        "from tensorflow.keras.callbacks import EarlyStopping\n",
        "\n",
        "new_model = Sequential()\n",
        "new_model.add(ResNet50(include_top=False, weights='imagenet', pooling='avg'))\n",
        "new_model.add(tfl.Dense(y_train.shape[1], activation='softmax',trainable=True))\n",
        "new_model.compile(optimizer='rmsprop',loss='categorical_crossentropy', metrics=['accuracy'])\n",
        "new_model.summary()"
      ],
      "execution_count": 50,
      "outputs": [
        {
          "output_type": "stream",
          "text": [
            "Downloading data from https://storage.googleapis.com/tensorflow/keras-applications/resnet/resnet50_weights_tf_dim_ordering_tf_kernels_notop.h5\n",
            "94773248/94765736 [==============================] - 1s 0us/step\n",
            "94781440/94765736 [==============================] - 1s 0us/step\n",
            "Model: \"sequential_2\"\n",
            "_________________________________________________________________\n",
            "Layer (type)                 Output Shape              Param #   \n",
            "=================================================================\n",
            "resnet50 (Functional)        (None, 2048)              23587712  \n",
            "_________________________________________________________________\n",
            "dense_4 (Dense)              (None, 2)                 4098      \n",
            "=================================================================\n",
            "Total params: 23,591,810\n",
            "Trainable params: 23,538,690\n",
            "Non-trainable params: 53,120\n",
            "_________________________________________________________________\n"
          ],
          "name": "stdout"
        }
      ]
    },
    {
      "cell_type": "code",
      "metadata": {
        "id": "6rMx4XRgx_Yo"
      },
      "source": [
        ""
      ],
      "execution_count": null,
      "outputs": []
    },
    {
      "cell_type": "code",
      "metadata": {
        "id": "v4JzAQoux_Yo"
      },
      "source": [
        "#Cargamos un preprocesador del modelo\n",
        "preprocess_input = tf.keras.applications.resnet50.preprocess_input"
      ],
      "execution_count": 51,
      "outputs": []
    },
    {
      "cell_type": "code",
      "metadata": {
        "id": "GCDzzGmNx_Yo"
      },
      "source": [
        "def modelResnet(image_shape=(128,128)):\n",
        "    input_shape = image_shape + (3,)\n",
        "    base_model = tf.keras.applications.ResNet50(input_shape=input_shape,\n",
        "                                                   include_top=False, # <== Important!!!!\n",
        "                                                   weights='imagenet') # From imageNet\n",
        "    \n",
        "    # Freeze the base model by making it non trainable\n",
        "    base_model.trainable = False \n",
        "\n",
        "    # create the input layer (Same as the imageNetv2 input size)\n",
        "    inputs = tf.keras.Input(shape=input_shape)\n",
        "    \n",
        "    # data preprocessing using the same weights the model was trained on\n",
        "    x = preprocess_input(inputs) \n",
        "    \n",
        "    # set training to False to avoid keeping track of statistics in the batch norm layer\n",
        "    x = base_model(x, training=False) \n",
        "    \n",
        "    # Add the new Binary classification layers\n",
        "    # use global avg pooling to summarize the info in each channel\n",
        "    x = tfl.GlobalAveragePooling2D()(x) \n",
        "    #include dropout with probability of 0.2 to avoid overfitting\n",
        "    x = tfl.Dropout(0.2)(x)\n",
        "        \n",
        "    # create a prediction layer with one neuron (as a classifier only needs one)\n",
        "    prediction_layer = tfl.Dense(3,activation='softmax')\n",
        "    \n",
        "    outputs = prediction_layer(x) \n",
        "    model = tf.keras.Model(inputs, outputs)\n",
        "    \n",
        "    return model"
      ],
      "execution_count": 52,
      "outputs": []
    },
    {
      "cell_type": "code",
      "metadata": {
        "id": "9TwAcwB5x_Yp"
      },
      "source": [
        "model2 = modelResnet()"
      ],
      "execution_count": 53,
      "outputs": []
    },
    {
      "cell_type": "code",
      "metadata": {
        "id": "BTu6GjVKx_Yp"
      },
      "source": [
        "base_learning_rate = 0.01\n",
        "model2.compile(optimizer=tf.keras.optimizers.Adam(learning_rate=base_learning_rate),\n",
        "              loss=tf.keras.losses.CategoricalCrossentropy(from_logits=False),\n",
        "              metrics=['accuracy'])"
      ],
      "execution_count": 54,
      "outputs": []
    },
    {
      "cell_type": "code",
      "metadata": {
        "id": "Ck99UHprx_Yp",
        "colab": {
          "base_uri": "https://localhost:8080/"
        },
        "outputId": "ef08984b-793a-4fb5-f35d-a891249bbb91"
      },
      "source": [
        "model2.summary()"
      ],
      "execution_count": 55,
      "outputs": [
        {
          "output_type": "stream",
          "text": [
            "Model: \"model\"\n",
            "_________________________________________________________________\n",
            "Layer (type)                 Output Shape              Param #   \n",
            "=================================================================\n",
            "input_3 (InputLayer)         [(None, 128, 128, 3)]     0         \n",
            "_________________________________________________________________\n",
            "tf.__operators__.getitem (Sl (None, 128, 128, 3)       0         \n",
            "_________________________________________________________________\n",
            "tf.nn.bias_add (TFOpLambda)  (None, 128, 128, 3)       0         \n",
            "_________________________________________________________________\n",
            "resnet50 (Functional)        (None, 4, 4, 2048)        23587712  \n",
            "_________________________________________________________________\n",
            "global_average_pooling2d (Gl (None, 2048)              0         \n",
            "_________________________________________________________________\n",
            "dropout (Dropout)            (None, 2048)              0         \n",
            "_________________________________________________________________\n",
            "dense_5 (Dense)              (None, 3)                 6147      \n",
            "=================================================================\n",
            "Total params: 23,593,859\n",
            "Trainable params: 6,147\n",
            "Non-trainable params: 23,587,712\n",
            "_________________________________________________________________\n"
          ],
          "name": "stdout"
        }
      ]
    },
    {
      "cell_type": "code",
      "metadata": {
        "id": "qjpYgbkGx_Yp",
        "colab": {
          "base_uri": "https://localhost:8080/"
        },
        "outputId": "55e4a6f5-9ce6-4be2-e4ad-e03968243eea"
      },
      "source": [
        "new_model.fit(X_train, y_train, validation_data=(X_test,y_test),batch_size=20, epochs=5, verbose=1)"
      ],
      "execution_count": 56,
      "outputs": [
        {
          "output_type": "stream",
          "text": [
            "Epoch 1/5\n",
            "161/161 [==============================] - 1008s 6s/step - loss: 0.7610 - accuracy: 0.8294 - val_loss: 16760.0410 - val_accuracy: 0.8361\n",
            "Epoch 2/5\n",
            "161/161 [==============================] - 947s 6s/step - loss: 0.4511 - accuracy: 0.8384 - val_loss: 0.7294 - val_accuracy: 0.8361\n",
            "Epoch 3/5\n",
            "161/161 [==============================] - 958s 6s/step - loss: 0.4346 - accuracy: 0.8462 - val_loss: 0.7788 - val_accuracy: 0.8361\n",
            "Epoch 4/5\n",
            "161/161 [==============================] - 937s 6s/step - loss: 0.3755 - accuracy: 0.8740 - val_loss: 0.4420 - val_accuracy: 0.8380\n",
            "Epoch 5/5\n",
            "161/161 [==============================] - 948s 6s/step - loss: 0.3192 - accuracy: 0.8936 - val_loss: 0.3334 - val_accuracy: 0.8690\n"
          ],
          "name": "stdout"
        },
        {
          "output_type": "execute_result",
          "data": {
            "text/plain": [
              "<keras.callbacks.History at 0x7fd3b44a0150>"
            ]
          },
          "metadata": {},
          "execution_count": 56
        }
      ]
    },
    {
      "cell_type": "code",
      "metadata": {
        "id": "4R_KaJL-x_Yp"
      },
      "source": [
        ""
      ],
      "execution_count": null,
      "outputs": []
    }
  ]
}