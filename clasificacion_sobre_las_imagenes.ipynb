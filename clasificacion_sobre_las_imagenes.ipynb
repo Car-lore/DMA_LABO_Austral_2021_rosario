{
  "nbformat": 4,
  "nbformat_minor": 0,
  "metadata": {
    "kernelspec": {
      "display_name": "Python 3",
      "language": "python",
      "name": "python3"
    },
    "language_info": {
      "codemirror_mode": {
        "name": "ipython",
        "version": 3
      },
      "file_extension": ".py",
      "mimetype": "text/x-python",
      "name": "python",
      "nbconvert_exporter": "python",
      "pygments_lexer": "ipython3",
      "version": "3.8.5"
    },
    "colab": {
      "name": "clasificacion sobre las imagenes.ipynb",
      "provenance": [],
      "include_colab_link": true
    }
  },
  "cells": [
    {
      "cell_type": "markdown",
      "metadata": {
        "id": "view-in-github",
        "colab_type": "text"
      },
      "source": [
        "<a href=\"https://colab.research.google.com/github/Car-lore/DMA_LABO_Austral_2021_rosario/blob/Laboratorio-II/clasificacion_sobre_las_imagenes.ipynb\" target=\"_parent\"><img src=\"https://colab.research.google.com/assets/colab-badge.svg\" alt=\"Open In Colab\"/></a>"
      ]
    },
    {
      "cell_type": "code",
      "metadata": {
        "id": "n4R8LYi_x_YW"
      },
      "source": [
        "import os\n",
        "import sys\n",
        "from google.colab import drive\n",
        "\n",
        "import numpy as np\n",
        "from tensorflow.keras.preprocessing.image import load_img,img_to_array\n",
        "import matplotlib.pyplot as plt\n",
        "import tensorflow as tf\n",
        "from tensorflow.keras import datasets, layers, models\n",
        "from sklearn.model_selection import train_test_split\n",
        "from sklearn.preprocessing import OneHotEncoder\n",
        "from sklearn.preprocessing import OrdinalEncoder\n",
        "import tensorflow.keras.layers as tfl"
      ],
      "execution_count": 25,
      "outputs": []
    },
    {
      "cell_type": "code",
      "metadata": {
        "colab": {
          "base_uri": "https://localhost:8080/"
        },
        "id": "5FFjhWOg7HZp",
        "outputId": "05e63379-36ba-4269-ff80-4ab197db2772"
      },
      "source": [
        "drive.mount('/content/gdrive')"
      ],
      "execution_count": 26,
      "outputs": [
        {
          "output_type": "stream",
          "text": [
            "Drive already mounted at /content/gdrive; to attempt to forcibly remount, call drive.mount(\"/content/gdrive\", force_remount=True).\n"
          ],
          "name": "stdout"
        }
      ]
    },
    {
      "cell_type": "code",
      "metadata": {
        "colab": {
          "base_uri": "https://localhost:8080/"
        },
        "id": "Wj9UBBfqx_Ya",
        "outputId": "ae22b614-e5ac-48ab-c394-ddff74070ce2"
      },
      "source": [
        "folder_path='gdrive/MyDrive/imagenesG5/'\n",
        "os.listdir(folder_path)"
      ],
      "execution_count": 73,
      "outputs": [
        {
          "output_type": "execute_result",
          "data": {
            "text/plain": [
              "['MLA1000', 'MLA1039', 'MLA1144', 'MLA1051', 'MLA1648']"
            ]
          },
          "metadata": {},
          "execution_count": 73
        }
      ]
    },
    {
      "cell_type": "code",
      "metadata": {
        "colab": {
          "base_uri": "https://localhost:8080/"
        },
        "id": "h_DjE2w8x_Yc",
        "outputId": "8aec3244-398e-44a4-c7d6-cbc179b16f03"
      },
      "source": [
        "img_width=128\n",
        "img_height=128\n",
        "images = []\n",
        "labels=[]\n",
        "i=0\n",
        "clases=[]\n",
        "for folders in os.listdir(folder_path):\n",
        "    print ('Carpeta ', folders)\n",
        "    try:\n",
        "        for img in os.listdir('./{}/{}/'.format(folder_path,folders)):\n",
        "            img = load_img('./{}/{}/{}'.format(folder_path,folders,img), target_size=(img_width, img_height))\n",
        "            img = np.asarray(img)\n",
        "            img = np.expand_dims(img, axis=0)\n",
        "            images.append(img)\n",
        "            labels.append(folders)\n",
        "            i+=1\n",
        "            print('\\r', i, end='')\n",
        "    except:\n",
        "        print('Error en el archivo {}'.format(folders))\n",
        "images = np.vstack(images)"
      ],
      "execution_count": null,
      "outputs": [
        {
          "output_type": "stream",
          "text": [
            "Carpeta  MLA1000\n",
            " 1731Carpeta  MLA1039\n",
            " 3625Carpeta  MLA1144\n",
            " 5037Carpeta  MLA1051\n",
            " 5466"
          ],
          "name": "stdout"
        }
      ]
    },
    {
      "cell_type": "code",
      "metadata": {
        "id": "SH-yAbJWx_Yd",
        "colab": {
          "base_uri": "https://localhost:8080/"
        },
        "outputId": "cf9a6cdc-0c50-475a-cea5-4a5491b0100a"
      },
      "source": [
        "images.shape"
      ],
      "execution_count": 30,
      "outputs": [
        {
          "output_type": "execute_result",
          "data": {
            "text/plain": [
              "(4786, 128, 128, 3)"
            ]
          },
          "metadata": {},
          "execution_count": 30
        }
      ]
    },
    {
      "cell_type": "code",
      "metadata": {
        "id": "l2YmMF3ox_Ye",
        "colab": {
          "base_uri": "https://localhost:8080/",
          "height": 287
        },
        "outputId": "65cabe27-d515-4f5c-d558-ac00d66e4338"
      },
      "source": [
        "plt.imshow(images[2, :, :, :])"
      ],
      "execution_count": 31,
      "outputs": [
        {
          "output_type": "execute_result",
          "data": {
            "text/plain": [
              "<matplotlib.image.AxesImage at 0x7fd3b7b804d0>"
            ]
          },
          "metadata": {},
          "execution_count": 31
        },
        {
          "output_type": "display_data",
          "data": {
            "image/png": "[encoded data removed]",
            "text/plain": [
              "<Figure size 432x288 with 1 Axes>"
            ]
          },
          "metadata": {
            "needs_background": "light"
          }
        }
      ]
    },
    {
      "cell_type": "code",
      "metadata": {
        "id": "ixSaY5LYx_Ye",
        "colab": {
          "base_uri": "https://localhost:8080/"
        },
        "outputId": "59149d41-6653-4124-b013-ce14760907c7"
      },
      "source": [
        "#Categorias\n",
        "labels"
      ],
      "execution_count": 32,
      "outputs": [
        {
          "output_type": "execute_result",
          "data": {
            "text/plain": [
              "['MLA1403',\n",
              " 'MLA1403',\n",
              " 'MLA1403',\n",
              " 'MLA1403',\n",
              " 'MLA1403',\n",
              " 'MLA1403',\n",
              " 'MLA1403',\n",
              " 'MLA1403',\n",
              " 'MLA1403',\n",
              " 'MLA1403',\n",
              " 'MLA1403',\n",
              " 'MLA1403',\n",
              " 'MLA1403',\n",
              " 'MLA1403',\n",
              " 'MLA1403',\n",
              " 'MLA1403',\n",
              " 'MLA1403',\n",
              " 'MLA1403',\n",
              " 'MLA1403',\n",
              " 'MLA1403',\n",
              " 'MLA1403',\n",
              " 'MLA1403',\n",
              " 'MLA1403',\n",
              " 'MLA1403',\n",
              " 'MLA1403',\n",
              " 'MLA1403',\n",
              " 'MLA1403',\n",
              " 'MLA1403',\n",
              " 'MLA1403',\n",
              " 'MLA1403',\n",
              " 'MLA1403',\n",
              " 'MLA1403',\n",
              " 'MLA1403',\n",
              " 'MLA1403',\n",
              " 'MLA1403',\n",
              " 'MLA1403',\n",
              " 'MLA1403',\n",
              " 'MLA1403',\n",
              " 'MLA1403',\n",
              " 'MLA1403',\n",
              " 'MLA1403',\n",
              " 'MLA1403',\n",
              " 'MLA1403',\n",
              " 'MLA1403',\n",
              " 'MLA1403',\n",
              " 'MLA1403',\n",
              " 'MLA1403',\n",
              " 'MLA1403',\n",
              " 'MLA1403',\n",
              " 'MLA1403',\n",
              " 'MLA1403',\n",
              " 'MLA1403',\n",
              " 'MLA1403',\n",
              " 'MLA1403',\n",
              " 'MLA1403',\n",
              " 'MLA1403',\n",
              " 'MLA1403',\n",
              " 'MLA1403',\n",
              " 'MLA1403',\n",
              " 'MLA1403',\n",
              " 'MLA1403',\n",
              " 'MLA1403',\n",
              " 'MLA1403',\n",
              " 'MLA1403',\n",
              " 'MLA1403',\n",
              " 'MLA1403',\n",
              " 'MLA1403',\n",
              " 'MLA1403',\n",
              " 'MLA1403',\n",
              " 'MLA1403',\n",
              " 'MLA1403',\n",
              " 'MLA1403',\n",
              " 'MLA1403',\n",
              " 'MLA1403',\n",
              " 'MLA1403',\n",
              " 'MLA1403',\n",
              " 'MLA1403',\n",
              " 'MLA1403',\n",
              " 'MLA1403',\n",
              " 'MLA1403',\n",
              " 'MLA1403',\n",
              " 'MLA1403',\n",
              " 'MLA1403',\n",
              " 'MLA1403',\n",
              " 'MLA1403',\n",
              " 'MLA1403',\n",
              " 'MLA1403',\n",
              " 'MLA1403',\n",
              " 'MLA1403',\n",
              " 'MLA1403',\n",
              " 'MLA1403',\n",
              " 'MLA1403',\n",
              " 'MLA1403',\n",
              " 'MLA1403',\n",
              " 'MLA1403',\n",
              " 'MLA1403',\n",
              " 'MLA1403',\n",
              " 'MLA1403',\n",
              " 'MLA1403',\n",
              " 'MLA1403',\n",
              " 'MLA1403',\n",
              " 'MLA1403',\n",
              " 'MLA1403',\n",
              " 'MLA1403',\n",
              " 'MLA1403',\n",
              " 'MLA1403',\n",
              " 'MLA1403',\n",
              " 'MLA1403',\n",
              " 'MLA1403',\n",
              " 'MLA1403',\n",
              " 'MLA1403',\n",
              " 'MLA1403',\n",
              " 'MLA1403',\n",
              " 'MLA1403',\n",
              " 'MLA1403',\n",
              " 'MLA1403',\n",
              " 'MLA1403',\n",
              " 'MLA1403',\n",
              " 'MLA1403',\n",
              " 'MLA1403',\n",
              " 'MLA1403',\n",
              " 'MLA1403',\n",
              " 'MLA1403',\n",
              " 'MLA1403',\n",
              " 'MLA1403',\n",
              " 'MLA1403',\n",
              " 'MLA1403',\n",
              " 'MLA1403',\n",
              " 'MLA1403',\n",
              " 'MLA1403',\n",
              " 'MLA1403',\n",
              " 'MLA1403',\n",
              " 'MLA1403',\n",
              " 'MLA1403',\n",
              " 'MLA1403',\n",
              " 'MLA1403',\n",
              " 'MLA1403',\n",
              " 'MLA1403',\n",
              " 'MLA1403',\n",
              " 'MLA1403',\n",
              " 'MLA1403',\n",
              " 'MLA1403',\n",
              " 'MLA1403',\n",
              " 'MLA1403',\n",
              " 'MLA1403',\n",
              " 'MLA1403',\n",
              " 'MLA1403',\n",
              " 'MLA1403',\n",
              " 'MLA1403',\n",
              " 'MLA1403',\n",
              " 'MLA1403',\n",
              " 'MLA1403',\n",
              " 'MLA1403',\n",
              " 'MLA1403',\n",
              " 'MLA1403',\n",
              " 'MLA1403',\n",
              " 'MLA1403',\n",
              " 'MLA1403',\n",
              " 'MLA1403',\n",
              " 'MLA1403',\n",
              " 'MLA1403',\n",
              " 'MLA1403',\n",
              " 'MLA1403',\n",
              " 'MLA1403',\n",
              " 'MLA1403',\n",
              " 'MLA1403',\n",
              " 'MLA1403',\n",
              " 'MLA1403',\n",
              " 'MLA1403',\n",
              " 'MLA1403',\n",
              " 'MLA1403',\n",
              " 'MLA1403',\n",
              " 'MLA1403',\n",
              " 'MLA1403',\n",
              " 'MLA1403',\n",
              " 'MLA1403',\n",
              " 'MLA1403',\n",
              " 'MLA1403',\n",
              " 'MLA1403',\n",
              " 'MLA1403',\n",
              " 'MLA1403',\n",
              " 'MLA1403',\n",
              " 'MLA1403',\n",
              " 'MLA1403',\n",
              " 'MLA1403',\n",
              " 'MLA1403',\n",
              " 'MLA1403',\n",
              " 'MLA1403',\n",
              " 'MLA1403',\n",
              " 'MLA1403',\n",
              " 'MLA1403',\n",
              " 'MLA1403',\n",
              " 'MLA1403',\n",
              " 'MLA1403',\n",
              " 'MLA1403',\n",
              " 'MLA1403',\n",
              " 'MLA1403',\n",
              " 'MLA1403',\n",
              " 'MLA1403',\n",
              " 'MLA1403',\n",
              " 'MLA1403',\n",
              " 'MLA1403',\n",
              " 'MLA1403',\n",
              " 'MLA1403',\n",
              " 'MLA1403',\n",
              " 'MLA1403',\n",
              " 'MLA1403',\n",
              " 'MLA1403',\n",
              " 'MLA1403',\n",
              " 'MLA1403',\n",
              " 'MLA1403',\n",
              " 'MLA1403',\n",
              " 'MLA1403',\n",
              " 'MLA1403',\n",
              " 'MLA1403',\n",
              " 'MLA1403',\n",
              " 'MLA1403',\n",
              " 'MLA1403',\n",
              " 'MLA1403',\n",
              " 'MLA1403',\n",
              " 'MLA1403',\n",
              " 'MLA1403',\n",
              " 'MLA1403',\n",
              " 'MLA1403',\n",
              " 'MLA1403',\n",
              " 'MLA1403',\n",
              " 'MLA1403',\n",
              " 'MLA1403',\n",
              " 'MLA1403',\n",
              " 'MLA1403',\n",
              " 'MLA1403',\n",
              " 'MLA1403',\n",
              " 'MLA1403',\n",
              " 'MLA1403',\n",
              " 'MLA1403',\n",
              " 'MLA1403',\n",
              " 'MLA1403',\n",
              " 'MLA1403',\n",
              " 'MLA1403',\n",
              " 'MLA1403',\n",
              " 'MLA1403',\n",
              " 'MLA1403',\n",
              " 'MLA1403',\n",
              " 'MLA1403',\n",
              " 'MLA1403',\n",
              " 'MLA1403',\n",
              " 'MLA1403',\n",
              " 'MLA1403',\n",
              " 'MLA1403',\n",
              " 'MLA1403',\n",
              " 'MLA1403',\n",
              " 'MLA1403',\n",
              " 'MLA1403',\n",
              " 'MLA1403',\n",
              " 'MLA1403',\n",
              " 'MLA1403',\n",
              " 'MLA1403',\n",
              " 'MLA1403',\n",
              " 'MLA1403',\n",
              " 'MLA1403',\n",
              " 'MLA1403',\n",
              " 'MLA1403',\n",
              " 'MLA1403',\n",
              " 'MLA1403',\n",
              " 'MLA1403',\n",
              " 'MLA1403',\n",
              " 'MLA1403',\n",
              " 'MLA1403',\n",
              " 'MLA1403',\n",
              " 'MLA1403',\n",
              " 'MLA1403',\n",
              " 'MLA1403',\n",
              " 'MLA1403',\n",
              " 'MLA1403',\n",
              " 'MLA1403',\n",
              " 'MLA1403',\n",
              " 'MLA1403',\n",
              " 'MLA1403',\n",
              " 'MLA1403',\n",
              " 'MLA1403',\n",
              " 'MLA1403',\n",
              " 'MLA1403',\n",
              " 'MLA1403',\n",
              " 'MLA1403',\n",
              " 'MLA1403',\n",
              " 'MLA1403',\n",
              " 'MLA1403',\n",
              " 'MLA1403',\n",
              " 'MLA1403',\n",
              " 'MLA1403',\n",
              " 'MLA1403',\n",
              " 'MLA1403',\n",
              " 'MLA1403',\n",
              " 'MLA1403',\n",
              " 'MLA1403',\n",
              " 'MLA1403',\n",
              " 'MLA1403',\n",
              " 'MLA1403',\n",
              " 'MLA1403',\n",
              " 'MLA1403',\n",
              " 'MLA1403',\n",
              " 'MLA1403',\n",
              " 'MLA1403',\n",
              " 'MLA1403',\n",
              " 'MLA1403',\n",
              " 'MLA1403',\n",
              " 'MLA1403',\n",
              " 'MLA1403',\n",
              " 'MLA1403',\n",
              " 'MLA1403',\n",
              " 'MLA1403',\n",
              " 'MLA1403',\n",
              " 'MLA1403',\n",
              " 'MLA1403',\n",
              " 'MLA1403',\n",
              " 'MLA1403',\n",
              " 'MLA1403',\n",
              " 'MLA1403',\n",
              " 'MLA1403',\n",
              " 'MLA1403',\n",
              " 'MLA1403',\n",
              " 'MLA1403',\n",
              " 'MLA1403',\n",
              " 'MLA1403',\n",
              " 'MLA1403',\n",
              " 'MLA1403',\n",
              " 'MLA1403',\n",
              " 'MLA1403',\n",
              " 'MLA1403',\n",
              " 'MLA1403',\n",
              " 'MLA1403',\n",
              " 'MLA1403',\n",
              " 'MLA1403',\n",
              " 'MLA1403',\n",
              " 'MLA1403',\n",
              " 'MLA1403',\n",
              " 'MLA1403',\n",
              " 'MLA1403',\n",
              " 'MLA1403',\n",
              " 'MLA1403',\n",
              " 'MLA1403',\n",
              " 'MLA1403',\n",
              " 'MLA1403',\n",
              " 'MLA1403',\n",
              " 'MLA1403',\n",
              " 'MLA1403',\n",
              " 'MLA1403',\n",
              " 'MLA1403',\n",
              " 'MLA1403',\n",
              " 'MLA1403',\n",
              " 'MLA1403',\n",
              " 'MLA1403',\n",
              " 'MLA1403',\n",
              " 'MLA1403',\n",
              " 'MLA1403',\n",
              " 'MLA1403',\n",
              " 'MLA1403',\n",
              " 'MLA1403',\n",
              " 'MLA1403',\n",
              " 'MLA1403',\n",
              " 'MLA1403',\n",
              " 'MLA1403',\n",
              " 'MLA1403',\n",
              " 'MLA1403',\n",
              " 'MLA1403',\n",
              " 'MLA1403',\n",
              " 'MLA1403',\n",
              " 'MLA1403',\n",
              " 'MLA1403',\n",
              " 'MLA1403',\n",
              " 'MLA1403',\n",
              " 'MLA1403',\n",
              " 'MLA1403',\n",
              " 'MLA1403',\n",
              " 'MLA1403',\n",
              " 'MLA1403',\n",
              " 'MLA1403',\n",
              " 'MLA1403',\n",
              " 'MLA1403',\n",
              " 'MLA1403',\n",
              " 'MLA1403',\n",
              " 'MLA1403',\n",
              " 'MLA1403',\n",
              " 'MLA1403',\n",
              " 'MLA1403',\n",
              " 'MLA1403',\n",
              " 'MLA1403',\n",
              " 'MLA1403',\n",
              " 'MLA1403',\n",
              " 'MLA1403',\n",
              " 'MLA1403',\n",
              " 'MLA1403',\n",
              " 'MLA1403',\n",
              " 'MLA1403',\n",
              " 'MLA1403',\n",
              " 'MLA1403',\n",
              " 'MLA1403',\n",
              " 'MLA1403',\n",
              " 'MLA1403',\n",
              " 'MLA1403',\n",
              " 'MLA1403',\n",
              " 'MLA1403',\n",
              " 'MLA1403',\n",
              " 'MLA1403',\n",
              " 'MLA1403',\n",
              " 'MLA1403',\n",
              " 'MLA1403',\n",
              " 'MLA1403',\n",
              " 'MLA1403',\n",
              " 'MLA1403',\n",
              " 'MLA1403',\n",
              " 'MLA1403',\n",
              " 'MLA1403',\n",
              " 'MLA1403',\n",
              " 'MLA1403',\n",
              " 'MLA1403',\n",
              " 'MLA1403',\n",
              " 'MLA1403',\n",
              " 'MLA1403',\n",
              " 'MLA1403',\n",
              " 'MLA1403',\n",
              " 'MLA1403',\n",
              " 'MLA1403',\n",
              " 'MLA1403',\n",
              " 'MLA1403',\n",
              " 'MLA1403',\n",
              " 'MLA1403',\n",
              " 'MLA1403',\n",
              " 'MLA1403',\n",
              " 'MLA1403',\n",
              " 'MLA1403',\n",
              " 'MLA1403',\n",
              " 'MLA1403',\n",
              " 'MLA1403',\n",
              " 'MLA1403',\n",
              " 'MLA1403',\n",
              " 'MLA1403',\n",
              " 'MLA1403',\n",
              " 'MLA1403',\n",
              " 'MLA1403',\n",
              " 'MLA1403',\n",
              " 'MLA1403',\n",
              " 'MLA1403',\n",
              " 'MLA1403',\n",
              " 'MLA1403',\n",
              " 'MLA1403',\n",
              " 'MLA1403',\n",
              " 'MLA1403',\n",
              " 'MLA1403',\n",
              " 'MLA1403',\n",
              " 'MLA1403',\n",
              " 'MLA1403',\n",
              " 'MLA1403',\n",
              " 'MLA1403',\n",
              " 'MLA1403',\n",
              " 'MLA1403',\n",
              " 'MLA1403',\n",
              " 'MLA1403',\n",
              " 'MLA1403',\n",
              " 'MLA1403',\n",
              " 'MLA1403',\n",
              " 'MLA1403',\n",
              " 'MLA1403',\n",
              " 'MLA1403',\n",
              " 'MLA1403',\n",
              " 'MLA1403',\n",
              " 'MLA1403',\n",
              " 'MLA1403',\n",
              " 'MLA1403',\n",
              " 'MLA1403',\n",
              " 'MLA1403',\n",
              " 'MLA1403',\n",
              " 'MLA1403',\n",
              " 'MLA1403',\n",
              " 'MLA1403',\n",
              " 'MLA1403',\n",
              " 'MLA1403',\n",
              " 'MLA1403',\n",
              " 'MLA1403',\n",
              " 'MLA1403',\n",
              " 'MLA1403',\n",
              " 'MLA1403',\n",
              " 'MLA1403',\n",
              " 'MLA1403',\n",
              " 'MLA1403',\n",
              " 'MLA1403',\n",
              " 'MLA1403',\n",
              " 'MLA1403',\n",
              " 'MLA1403',\n",
              " 'MLA1403',\n",
              " 'MLA1403',\n",
              " 'MLA1403',\n",
              " 'MLA1403',\n",
              " 'MLA1403',\n",
              " 'MLA1403',\n",
              " 'MLA1403',\n",
              " 'MLA1403',\n",
              " 'MLA1403',\n",
              " 'MLA1403',\n",
              " 'MLA1403',\n",
              " 'MLA1403',\n",
              " 'MLA1403',\n",
              " 'MLA1403',\n",
              " 'MLA1403',\n",
              " 'MLA1403',\n",
              " 'MLA1403',\n",
              " 'MLA1403',\n",
              " 'MLA1403',\n",
              " 'MLA1403',\n",
              " 'MLA1403',\n",
              " 'MLA1403',\n",
              " 'MLA1403',\n",
              " 'MLA1403',\n",
              " 'MLA1403',\n",
              " 'MLA1403',\n",
              " 'MLA1403',\n",
              " 'MLA1403',\n",
              " 'MLA1403',\n",
              " 'MLA1403',\n",
              " 'MLA1403',\n",
              " 'MLA1403',\n",
              " 'MLA1403',\n",
              " 'MLA1403',\n",
              " 'MLA1403',\n",
              " 'MLA1403',\n",
              " 'MLA1403',\n",
              " 'MLA1403',\n",
              " 'MLA1403',\n",
              " 'MLA1403',\n",
              " 'MLA1403',\n",
              " 'MLA1403',\n",
              " 'MLA1403',\n",
              " 'MLA1403',\n",
              " 'MLA1403',\n",
              " 'MLA1403',\n",
              " 'MLA1403',\n",
              " 'MLA1403',\n",
              " 'MLA1403',\n",
              " 'MLA1403',\n",
              " 'MLA1403',\n",
              " 'MLA1403',\n",
              " 'MLA1403',\n",
              " 'MLA1403',\n",
              " 'MLA1403',\n",
              " 'MLA1403',\n",
              " 'MLA1403',\n",
              " 'MLA1403',\n",
              " 'MLA1403',\n",
              " 'MLA1403',\n",
              " 'MLA1403',\n",
              " 'MLA1403',\n",
              " 'MLA1403',\n",
              " 'MLA1403',\n",
              " 'MLA1403',\n",
              " 'MLA1403',\n",
              " 'MLA1403',\n",
              " 'MLA1403',\n",
              " 'MLA1403',\n",
              " 'MLA1403',\n",
              " 'MLA1403',\n",
              " 'MLA1403',\n",
              " 'MLA1403',\n",
              " 'MLA1403',\n",
              " 'MLA1403',\n",
              " 'MLA1403',\n",
              " 'MLA1403',\n",
              " 'MLA1403',\n",
              " 'MLA1403',\n",
              " 'MLA1403',\n",
              " 'MLA1403',\n",
              " 'MLA1403',\n",
              " 'MLA1403',\n",
              " 'MLA1403',\n",
              " 'MLA1403',\n",
              " 'MLA1403',\n",
              " 'MLA1403',\n",
              " 'MLA1403',\n",
              " 'MLA1403',\n",
              " 'MLA1403',\n",
              " 'MLA1403',\n",
              " 'MLA1403',\n",
              " 'MLA1403',\n",
              " 'MLA1403',\n",
              " 'MLA1403',\n",
              " 'MLA1403',\n",
              " 'MLA1403',\n",
              " 'MLA1403',\n",
              " 'MLA1403',\n",
              " 'MLA1403',\n",
              " 'MLA1403',\n",
              " 'MLA1403',\n",
              " 'MLA1403',\n",
              " 'MLA1403',\n",
              " 'MLA1403',\n",
              " 'MLA1403',\n",
              " 'MLA1403',\n",
              " 'MLA1403',\n",
              " 'MLA1403',\n",
              " 'MLA1403',\n",
              " 'MLA1403',\n",
              " 'MLA1403',\n",
              " 'MLA1403',\n",
              " 'MLA1403',\n",
              " 'MLA1403',\n",
              " 'MLA1403',\n",
              " 'MLA1403',\n",
              " 'MLA1403',\n",
              " 'MLA1403',\n",
              " 'MLA1403',\n",
              " 'MLA1403',\n",
              " 'MLA1403',\n",
              " 'MLA1403',\n",
              " 'MLA1403',\n",
              " 'MLA1403',\n",
              " 'MLA1403',\n",
              " 'MLA1403',\n",
              " 'MLA1403',\n",
              " 'MLA1403',\n",
              " 'MLA1403',\n",
              " 'MLA1403',\n",
              " 'MLA1403',\n",
              " 'MLA1403',\n",
              " 'MLA1403',\n",
              " 'MLA1403',\n",
              " 'MLA1403',\n",
              " 'MLA1403',\n",
              " 'MLA1403',\n",
              " 'MLA1403',\n",
              " 'MLA1403',\n",
              " 'MLA1403',\n",
              " 'MLA1403',\n",
              " 'MLA1403',\n",
              " 'MLA1403',\n",
              " 'MLA1403',\n",
              " 'MLA1403',\n",
              " 'MLA1403',\n",
              " 'MLA1403',\n",
              " 'MLA1403',\n",
              " 'MLA1403',\n",
              " 'MLA1403',\n",
              " 'MLA1403',\n",
              " 'MLA1403',\n",
              " 'MLA1403',\n",
              " 'MLA1403',\n",
              " 'MLA1403',\n",
              " 'MLA1403',\n",
              " 'MLA1403',\n",
              " 'MLA1403',\n",
              " 'MLA1403',\n",
              " 'MLA1403',\n",
              " 'MLA1403',\n",
              " 'MLA1403',\n",
              " 'MLA1403',\n",
              " 'MLA1403',\n",
              " 'MLA1403',\n",
              " 'MLA1403',\n",
              " 'MLA1403',\n",
              " 'MLA1403',\n",
              " 'MLA1403',\n",
              " 'MLA1403',\n",
              " 'MLA1403',\n",
              " 'MLA1403',\n",
              " 'MLA1403',\n",
              " 'MLA1403',\n",
              " 'MLA1403',\n",
              " 'MLA1403',\n",
              " 'MLA1403',\n",
              " 'MLA1403',\n",
              " 'MLA1403',\n",
              " 'MLA1403',\n",
              " 'MLA1403',\n",
              " 'MLA1403',\n",
              " 'MLA1403',\n",
              " 'MLA1403',\n",
              " 'MLA1403',\n",
              " 'MLA1403',\n",
              " 'MLA1403',\n",
              " 'MLA1403',\n",
              " 'MLA1403',\n",
              " 'MLA1403',\n",
              " 'MLA1403',\n",
              " 'MLA1403',\n",
              " 'MLA1403',\n",
              " 'MLA1403',\n",
              " 'MLA1403',\n",
              " 'MLA1403',\n",
              " 'MLA1403',\n",
              " 'MLA1403',\n",
              " 'MLA1403',\n",
              " 'MLA1403',\n",
              " 'MLA1403',\n",
              " 'MLA1403',\n",
              " 'MLA1403',\n",
              " 'MLA1403',\n",
              " 'MLA1403',\n",
              " 'MLA1403',\n",
              " 'MLA1403',\n",
              " 'MLA1403',\n",
              " 'MLA1403',\n",
              " 'MLA1403',\n",
              " 'MLA1403',\n",
              " 'MLA1403',\n",
              " 'MLA1403',\n",
              " 'MLA1403',\n",
              " 'MLA1403',\n",
              " 'MLA1403',\n",
              " 'MLA1403',\n",
              " 'MLA1403',\n",
              " 'MLA1403',\n",
              " 'MLA1403',\n",
              " 'MLA1403',\n",
              " 'MLA1403',\n",
              " 'MLA1403',\n",
              " 'MLA1403',\n",
              " 'MLA1403',\n",
              " 'MLA1403',\n",
              " 'MLA1403',\n",
              " 'MLA1403',\n",
              " 'MLA1403',\n",
              " 'MLA1403',\n",
              " 'MLA1403',\n",
              " 'MLA1403',\n",
              " 'MLA1403',\n",
              " 'MLA1403',\n",
              " 'MLA1403',\n",
              " 'MLA1403',\n",
              " 'MLA1403',\n",
              " 'MLA1403',\n",
              " 'MLA1403',\n",
              " 'MLA1403',\n",
              " 'MLA1403',\n",
              " 'MLA1403',\n",
              " 'MLA1403',\n",
              " 'MLA1403',\n",
              " 'MLA1403',\n",
              " 'MLA1403',\n",
              " 'MLA1403',\n",
              " 'MLA1403',\n",
              " 'MLA1403',\n",
              " 'MLA1403',\n",
              " 'MLA1403',\n",
              " 'MLA1403',\n",
              " 'MLA1403',\n",
              " 'MLA1403',\n",
              " 'MLA1403',\n",
              " 'MLA1403',\n",
              " 'MLA1403',\n",
              " 'MLA1403',\n",
              " 'MLA1403',\n",
              " 'MLA1403',\n",
              " 'MLA1403',\n",
              " 'MLA1403',\n",
              " 'MLA1403',\n",
              " 'MLA1403',\n",
              " 'MLA1071',\n",
              " 'MLA1071',\n",
              " 'MLA1071',\n",
              " 'MLA1071',\n",
              " 'MLA1071',\n",
              " 'MLA1071',\n",
              " 'MLA1071',\n",
              " 'MLA1071',\n",
              " 'MLA1071',\n",
              " 'MLA1071',\n",
              " 'MLA1071',\n",
              " 'MLA1071',\n",
              " 'MLA1071',\n",
              " 'MLA1071',\n",
              " 'MLA1071',\n",
              " 'MLA1071',\n",
              " 'MLA1071',\n",
              " 'MLA1071',\n",
              " 'MLA1071',\n",
              " 'MLA1071',\n",
              " 'MLA1071',\n",
              " 'MLA1071',\n",
              " 'MLA1071',\n",
              " 'MLA1071',\n",
              " 'MLA1071',\n",
              " 'MLA1071',\n",
              " 'MLA1071',\n",
              " 'MLA1071',\n",
              " 'MLA1071',\n",
              " 'MLA1071',\n",
              " 'MLA1071',\n",
              " 'MLA1071',\n",
              " 'MLA1071',\n",
              " 'MLA1071',\n",
              " 'MLA1071',\n",
              " 'MLA1071',\n",
              " 'MLA1071',\n",
              " 'MLA1071',\n",
              " 'MLA1071',\n",
              " 'MLA1071',\n",
              " 'MLA1071',\n",
              " 'MLA1071',\n",
              " 'MLA1071',\n",
              " 'MLA1071',\n",
              " 'MLA1071',\n",
              " 'MLA1071',\n",
              " 'MLA1071',\n",
              " 'MLA1071',\n",
              " 'MLA1071',\n",
              " 'MLA1071',\n",
              " 'MLA1071',\n",
              " 'MLA1071',\n",
              " 'MLA1071',\n",
              " 'MLA1071',\n",
              " 'MLA1071',\n",
              " 'MLA1071',\n",
              " 'MLA1071',\n",
              " 'MLA1071',\n",
              " 'MLA1071',\n",
              " 'MLA1071',\n",
              " 'MLA1071',\n",
              " 'MLA1071',\n",
              " 'MLA1071',\n",
              " 'MLA1071',\n",
              " 'MLA1071',\n",
              " 'MLA1071',\n",
              " 'MLA1071',\n",
              " 'MLA1071',\n",
              " 'MLA1071',\n",
              " 'MLA1071',\n",
              " 'MLA1071',\n",
              " 'MLA1071',\n",
              " 'MLA1071',\n",
              " 'MLA1071',\n",
              " 'MLA1071',\n",
              " 'MLA1071',\n",
              " 'MLA1071',\n",
              " 'MLA1071',\n",
              " 'MLA1071',\n",
              " 'MLA1071',\n",
              " 'MLA1071',\n",
              " 'MLA1071',\n",
              " 'MLA1071',\n",
              " 'MLA1071',\n",
              " 'MLA1071',\n",
              " 'MLA1071',\n",
              " 'MLA1071',\n",
              " 'MLA1071',\n",
              " 'MLA1071',\n",
              " 'MLA1071',\n",
              " 'MLA1071',\n",
              " 'MLA1071',\n",
              " 'MLA1071',\n",
              " 'MLA1071',\n",
              " 'MLA1071',\n",
              " 'MLA1071',\n",
              " 'MLA1071',\n",
              " 'MLA1071',\n",
              " 'MLA1071',\n",
              " 'MLA1071',\n",
              " 'MLA1071',\n",
              " 'MLA1071',\n",
              " 'MLA1071',\n",
              " 'MLA1071',\n",
              " 'MLA1071',\n",
              " 'MLA1071',\n",
              " 'MLA1071',\n",
              " 'MLA1071',\n",
              " 'MLA1071',\n",
              " 'MLA1071',\n",
              " 'MLA1071',\n",
              " 'MLA1071',\n",
              " 'MLA1071',\n",
              " 'MLA1071',\n",
              " 'MLA1071',\n",
              " 'MLA1071',\n",
              " 'MLA1071',\n",
              " 'MLA1071',\n",
              " 'MLA1071',\n",
              " 'MLA1071',\n",
              " 'MLA1071',\n",
              " 'MLA1071',\n",
              " 'MLA1071',\n",
              " 'MLA1071',\n",
              " 'MLA1071',\n",
              " 'MLA1071',\n",
              " 'MLA1071',\n",
              " 'MLA1071',\n",
              " 'MLA1071',\n",
              " 'MLA1071',\n",
              " 'MLA1071',\n",
              " 'MLA1071',\n",
              " 'MLA1071',\n",
              " 'MLA1071',\n",
              " 'MLA1071',\n",
              " 'MLA1071',\n",
              " 'MLA1071',\n",
              " 'MLA1071',\n",
              " 'MLA1071',\n",
              " 'MLA1071',\n",
              " 'MLA1071',\n",
              " 'MLA1071',\n",
              " 'MLA1071',\n",
              " 'MLA1071',\n",
              " 'MLA1071',\n",
              " 'MLA1071',\n",
              " 'MLA1071',\n",
              " 'MLA1071',\n",
              " 'MLA1071',\n",
              " 'MLA1071',\n",
              " 'MLA1071',\n",
              " 'MLA1071',\n",
              " 'MLA1071',\n",
              " 'MLA1071',\n",
              " 'MLA1071',\n",
              " 'MLA1071',\n",
              " 'MLA1071',\n",
              " 'MLA1071',\n",
              " 'MLA1071',\n",
              " 'MLA1071',\n",
              " 'MLA1071',\n",
              " 'MLA1071',\n",
              " 'MLA1071',\n",
              " 'MLA1071',\n",
              " 'MLA1071',\n",
              " 'MLA1071',\n",
              " 'MLA1071',\n",
              " 'MLA1071',\n",
              " 'MLA1071',\n",
              " 'MLA1071',\n",
              " 'MLA1071',\n",
              " 'MLA1071',\n",
              " 'MLA1071',\n",
              " 'MLA1071',\n",
              " 'MLA1071',\n",
              " 'MLA1071',\n",
              " 'MLA1071',\n",
              " 'MLA1071',\n",
              " 'MLA1071',\n",
              " 'MLA1071',\n",
              " 'MLA1071',\n",
              " 'MLA1071',\n",
              " 'MLA1071',\n",
              " 'MLA1071',\n",
              " 'MLA1071',\n",
              " 'MLA1071',\n",
              " 'MLA1071',\n",
              " 'MLA1071',\n",
              " 'MLA1071',\n",
              " 'MLA1071',\n",
              " 'MLA1071',\n",
              " 'MLA1071',\n",
              " 'MLA1071',\n",
              " 'MLA1071',\n",
              " 'MLA1071',\n",
              " 'MLA1071',\n",
              " 'MLA1071',\n",
              " 'MLA1071',\n",
              " 'MLA1071',\n",
              " 'MLA1071',\n",
              " 'MLA1071',\n",
              " 'MLA1071',\n",
              " 'MLA1071',\n",
              " 'MLA1071',\n",
              " 'MLA1071',\n",
              " 'MLA1071',\n",
              " 'MLA1071',\n",
              " 'MLA1071',\n",
              " 'MLA1071',\n",
              " 'MLA1071',\n",
              " 'MLA1071',\n",
              " 'MLA1071',\n",
              " 'MLA1071',\n",
              " 'MLA1071',\n",
              " 'MLA1071',\n",
              " 'MLA1071',\n",
              " 'MLA1071',\n",
              " 'MLA1071',\n",
              " 'MLA1071',\n",
              " 'MLA1071',\n",
              " 'MLA1071',\n",
              " 'MLA1071',\n",
              " 'MLA1071',\n",
              " 'MLA1071',\n",
              " 'MLA1071',\n",
              " 'MLA1071',\n",
              " 'MLA1071',\n",
              " 'MLA1071',\n",
              " 'MLA1071',\n",
              " 'MLA1071',\n",
              " 'MLA1071',\n",
              " 'MLA1071',\n",
              " 'MLA1071',\n",
              " 'MLA1071',\n",
              " 'MLA1071',\n",
              " 'MLA1071',\n",
              " 'MLA1071',\n",
              " 'MLA1071',\n",
              " 'MLA1071',\n",
              " 'MLA1071',\n",
              " 'MLA1071',\n",
              " 'MLA1071',\n",
              " 'MLA1071',\n",
              " 'MLA1071',\n",
              " 'MLA1071',\n",
              " 'MLA1071',\n",
              " ...]"
            ]
          },
          "metadata": {},
          "execution_count": 32
        }
      ]
    },
    {
      "cell_type": "code",
      "metadata": {
        "id": "mocL0NoPx_Yf"
      },
      "source": [
        "# Esto sirve si vamos a predecir valores binarios\n",
        "\n",
        "#encoder=OrdinalEncoder()\n",
        "#encoder.fit(np.array(labels).reshape(-1,1))\n",
        "#y=encoder.transform(np.array(labels).reshape(-1,1))\n",
        "#X=images/255. # escalamos para que vaya de 0 a 1"
      ],
      "execution_count": null,
      "outputs": []
    },
    {
      "cell_type": "code",
      "metadata": {
        "id": "LaTROyc3x_Yg"
      },
      "source": [
        "# Si tenemos más de dos posibles valores, nos conviene esto\n",
        "\n",
        "encoder=OneHotEncoder()\n",
        "encoder.fit(np.array(labels).reshape(-1,1))\n",
        "y=encoder.transform(np.array(labels).reshape(-1,1))\n",
        "X=images/255."
      ],
      "execution_count": 35,
      "outputs": []
    },
    {
      "cell_type": "code",
      "metadata": {
        "id": "E5hL49Bax_Yh",
        "colab": {
          "base_uri": "https://localhost:8080/"
        },
        "outputId": "578e511d-4326-46ec-c36c-9522649e61e7"
      },
      "source": [
        "y.todense()"
      ],
      "execution_count": 36,
      "outputs": [
        {
          "output_type": "execute_result",
          "data": {
            "text/plain": [
              "matrix([[0., 1.],\n",
              "        [0., 1.],\n",
              "        [0., 1.],\n",
              "        ...,\n",
              "        [1., 0.],\n",
              "        [1., 0.],\n",
              "        [1., 0.]])"
            ]
          },
          "metadata": {},
          "execution_count": 36
        }
      ]
    },
    {
      "cell_type": "code",
      "metadata": {
        "id": "geRZv74yx_Yi"
      },
      "source": [
        "# Como ya tengo mis x y mis y borro los labels e images para ahorrar memoria\n",
        "\n",
        "del labels,images"
      ],
      "execution_count": 37,
      "outputs": []
    },
    {
      "cell_type": "code",
      "metadata": {
        "id": "RP4pO3BXx_Yj"
      },
      "source": [
        "X_train, X_test, y_train, y_test = train_test_split(X, y, test_size=0.33, random_state=42)"
      ],
      "execution_count": 38,
      "outputs": []
    },
    {
      "cell_type": "code",
      "metadata": {
        "id": "Bajn7Py7x_Yj",
        "colab": {
          "base_uri": "https://localhost:8080/"
        },
        "outputId": "e22e4960-c98e-43cd-8589-f7ff151f7980"
      },
      "source": [
        "X_train.shape"
      ],
      "execution_count": 39,
      "outputs": [
        {
          "output_type": "execute_result",
          "data": {
            "text/plain": [
              "(3206, 128, 128, 3)"
            ]
          },
          "metadata": {},
          "execution_count": 39
        }
      ]
    },
    {
      "cell_type": "code",
      "metadata": {
        "id": "agUDhGdCx_Yk",
        "colab": {
          "base_uri": "https://localhost:8080/"
        },
        "outputId": "dd984f5b-6d45-4501-868d-4cd9b29e4d8d"
      },
      "source": [
        "X_test.shape"
      ],
      "execution_count": 40,
      "outputs": [
        {
          "output_type": "execute_result",
          "data": {
            "text/plain": [
              "(1580, 128, 128, 3)"
            ]
          },
          "metadata": {},
          "execution_count": 40
        }
      ]
    },
    {
      "cell_type": "code",
      "metadata": {
        "id": "BrPG0rBUx_Yk",
        "colab": {
          "base_uri": "https://localhost:8080/"
        },
        "outputId": "a91a11e3-878a-4a13-f5f3-03e32d3c8c46"
      },
      "source": [
        "y_train.shape"
      ],
      "execution_count": 41,
      "outputs": [
        {
          "output_type": "execute_result",
          "data": {
            "text/plain": [
              "(3206, 2)"
            ]
          },
          "metadata": {},
          "execution_count": 41
        }
      ]
    },
    {
      "cell_type": "code",
      "metadata": {
        "id": "H61xzGC0x_Yl",
        "colab": {
          "base_uri": "https://localhost:8080/"
        },
        "outputId": "770e41f5-8252-4f70-dc00-f646bd62b5a6"
      },
      "source": [
        "y_test.shape"
      ],
      "execution_count": 42,
      "outputs": [
        {
          "output_type": "execute_result",
          "data": {
            "text/plain": [
              "(1580, 2)"
            ]
          },
          "metadata": {},
          "execution_count": 42
        }
      ]
    },
    {
      "cell_type": "code",
      "metadata": {
        "id": "fB9CdU8tx_Yl",
        "colab": {
          "base_uri": "https://localhost:8080/"
        },
        "outputId": "d5f033da-fc30-465d-d99a-3240e63511e1"
      },
      "source": [
        "y_test.todense()"
      ],
      "execution_count": 43,
      "outputs": [
        {
          "output_type": "execute_result",
          "data": {
            "text/plain": [
              "matrix([[1., 0.],\n",
              "        [1., 0.],\n",
              "        [1., 0.],\n",
              "        ...,\n",
              "        [1., 0.],\n",
              "        [1., 0.],\n",
              "        [1., 0.]])"
            ]
          },
          "metadata": {},
          "execution_count": 43
        }
      ]
    },
    {
      "cell_type": "code",
      "metadata": {
        "id": "HczuIrXAx_Yl"
      },
      "source": [
        "model = models.Sequential()\n",
        "model.add(layers.Conv2D(32, (3, 3), activation='relu', input_shape=(128, 128, 3)))\n",
        "model.add(layers.MaxPooling2D((2, 2)))\n",
        "model.add(layers.Conv2D(32, (3, 3), activation='relu'))\n",
        "model.add(layers.MaxPooling2D((2, 2)))\n",
        "model.add(layers.Conv2D(32, (3, 3), activation='relu'))\n",
        "model.add(layers.MaxPooling2D((2, 2)))\n",
        "model.add(layers.Flatten())\n",
        "model.add(layers.Dense(100,activation='relu'))\n",
        "#model.add(layers.Dense(1,activation='sigmoid'))\n",
        "model.add(layers.Dense(2,activation='softmax'))"
      ],
      "execution_count": 44,
      "outputs": []
    },
    {
      "cell_type": "code",
      "metadata": {
        "id": "PEDIt2-cx_Ym",
        "colab": {
          "base_uri": "https://localhost:8080/"
        },
        "outputId": "332d3f57-f6b2-49b3-c46c-17fd6605c848"
      },
      "source": [
        "model.summary()"
      ],
      "execution_count": 45,
      "outputs": [
        {
          "output_type": "stream",
          "text": [
            "Model: \"sequential_1\"\n",
            "_________________________________________________________________\n",
            "Layer (type)                 Output Shape              Param #   \n",
            "=================================================================\n",
            "conv2d_3 (Conv2D)            (None, 126, 126, 32)      896       \n",
            "_________________________________________________________________\n",
            "max_pooling2d_3 (MaxPooling2 (None, 63, 63, 32)        0         \n",
            "_________________________________________________________________\n",
            "conv2d_4 (Conv2D)            (None, 61, 61, 32)        9248      \n",
            "_________________________________________________________________\n",
            "max_pooling2d_4 (MaxPooling2 (None, 30, 30, 32)        0         \n",
            "_________________________________________________________________\n",
            "conv2d_5 (Conv2D)            (None, 28, 28, 32)        9248      \n",
            "_________________________________________________________________\n",
            "max_pooling2d_5 (MaxPooling2 (None, 14, 14, 32)        0         \n",
            "_________________________________________________________________\n",
            "flatten_1 (Flatten)          (None, 6272)              0         \n",
            "_________________________________________________________________\n",
            "dense_2 (Dense)              (None, 100)               627300    \n",
            "_________________________________________________________________\n",
            "dense_3 (Dense)              (None, 2)                 202       \n",
            "=================================================================\n",
            "Total params: 646,894\n",
            "Trainable params: 646,894\n",
            "Non-trainable params: 0\n",
            "_________________________________________________________________\n"
          ],
          "name": "stdout"
        }
      ]
    },
    {
      "cell_type": "code",
      "metadata": {
        "id": "EBC-Wc7sx_Ym"
      },
      "source": [
        "# esto lo uso si tengo binary\n",
        "#model.compile(optimizer='adam',\n",
        "#              loss=tf.keras.losses.BinaryCrossentropy(),\n",
        "#              metrics=['accuracy'])"
      ],
      "execution_count": null,
      "outputs": []
    },
    {
      "cell_type": "code",
      "metadata": {
        "id": "TARLu9ynx_Ym"
      },
      "source": [
        "model.compile(optimizer='adam',\n",
        "              loss=tf.keras.losses.CategoricalCrossentropy(),\n",
        "              metrics=['accuracy'])"
      ],
      "execution_count": 46,
      "outputs": []
    },
    {
      "cell_type": "code",
      "metadata": {
        "id": "319TBmt1x_Ym"
      },
      "source": [
        "y_train=y_train.todense()\n",
        "y_test=y_test.todense()"
      ],
      "execution_count": 47,
      "outputs": []
    },
    {
      "cell_type": "code",
      "metadata": {
        "id": "j2Bs5jo8x_Yn",
        "colab": {
          "base_uri": "https://localhost:8080/"
        },
        "outputId": "3adfd4e3-b3ca-4d27-89b2-e6ca5c7e7844"
      },
      "source": [
        "history = model.fit(X_train, y_train, epochs=2,\n",
        "                    validation_data=(X_test,y_test))"
      ],
      "execution_count": 48,
      "outputs": [
        {
          "output_type": "stream",
          "text": [
            "Epoch 1/2\n",
            "101/101 [==============================] - 65s 638ms/step - loss: 0.4265 - accuracy: 0.8387 - val_loss: 0.3772 - val_accuracy: 0.8481\n",
            "Epoch 2/2\n",
            "101/101 [==============================] - 64s 631ms/step - loss: 0.3304 - accuracy: 0.8690 - val_loss: 0.3335 - val_accuracy: 0.8538\n"
          ],
          "name": "stdout"
        }
      ]
    },
    {
      "cell_type": "code",
      "metadata": {
        "id": "rhvue4L_x_Yn",
        "colab": {
          "base_uri": "https://localhost:8080/",
          "height": 513
        },
        "outputId": "4649acd6-4116-4f08-e362-c49a474619ff"
      },
      "source": [
        "#Grafiquemos los resultados\n",
        "acc = [0.] + history.history['accuracy']\n",
        "val_acc = [0.] + history.history['val_accuracy']\n",
        "\n",
        "loss = history.history['loss']\n",
        "val_loss = history.history['val_loss']\n",
        "\n",
        "plt.figure(figsize=(8, 8))\n",
        "plt.subplot(2, 1, 1)\n",
        "plt.plot(acc, label='Training Accuracy')\n",
        "plt.plot(val_acc, label='Validation Accuracy')\n",
        "plt.legend(loc='lower right')\n",
        "plt.ylabel('Accuracy')\n",
        "plt.ylim([min(plt.ylim()),1])\n",
        "plt.title('Training and Validation Accuracy')\n",
        "\n",
        "plt.subplot(2, 1, 2)\n",
        "plt.plot(loss, label='Training Loss')\n",
        "plt.plot(val_loss, label='Validation Loss')\n",
        "plt.legend(loc='upper right')\n",
        "plt.ylabel('Cross Entropy')\n",
        "plt.ylim([0,5.0])\n",
        "plt.title('Training and Validation Loss')\n",
        "plt.xlabel('epoch')\n",
        "plt.show()"
      ],
      "execution_count": 49,
      "outputs": [
        {
          "output_type": "display_data",
          "data": {
            "image/png": "[encoded data removed]",
            "text/plain": [
              "<Figure size 576x576 with 2 Axes>"
            ]
          },
          "metadata": {
            "needs_background": "light"
          }
        }
      ]
    },
    {
      "cell_type": "markdown",
      "metadata": {
        "id": "QIfcg-V0x_Yn"
      },
      "source": [
        "### Usamos una red ya entrenada"
      ]
    },
    {
      "cell_type": "code",
      "metadata": {
        "id": "FnlISss2x_Yo",
        "colab": {
          "base_uri": "https://localhost:8080/"
        },
        "outputId": "5957f28f-9622-4717-dd8c-2a054c53da77"
      },
      "source": [
        "from tensorflow.keras.models import Sequential\n",
        "from tensorflow.keras.applications.resnet50 import ResNet50\n",
        "from tensorflow.keras.callbacks import EarlyStopping\n",
        "\n",
        "new_model = Sequential()\n",
        "new_model.add(ResNet50(include_top=False, weights='imagenet', pooling='avg'))\n",
        "new_model.add(tfl.Dense(y_train.shape[1], activation='softmax',trainable=True))\n",
        "new_model.compile(optimizer='rmsprop',loss='categorical_crossentropy', metrics=['accuracy'])\n",
        "new_model.summary()"
      ],
      "execution_count": 50,
      "outputs": [
        {
          "output_type": "stream",
          "text": [
            "Downloading data from https://storage.googleapis.com/tensorflow/keras-applications/resnet/resnet50_weights_tf_dim_ordering_tf_kernels_notop.h5\n",
            "94773248/94765736 [==============================] - 1s 0us/step\n",
            "94781440/94765736 [==============================] - 1s 0us/step\n",
            "Model: \"sequential_2\"\n",
            "_________________________________________________________________\n",
            "Layer (type)                 Output Shape              Param #   \n",
            "=================================================================\n",
            "resnet50 (Functional)        (None, 2048)              23587712  \n",
            "_________________________________________________________________\n",
            "dense_4 (Dense)              (None, 2)                 4098      \n",
            "=================================================================\n",
            "Total params: 23,591,810\n",
            "Trainable params: 23,538,690\n",
            "Non-trainable params: 53,120\n",
            "_________________________________________________________________\n"
          ],
          "name": "stdout"
        }
      ]
    },
    {
      "cell_type": "code",
      "metadata": {
        "id": "6rMx4XRgx_Yo"
      },
      "source": [
        ""
      ],
      "execution_count": null,
      "outputs": []
    },
    {
      "cell_type": "code",
      "metadata": {
        "id": "v4JzAQoux_Yo"
      },
      "source": [
        "#Cargamos un preprocesador del modelo\n",
        "preprocess_input = tf.keras.applications.resnet50.preprocess_input"
      ],
      "execution_count": 51,
      "outputs": []
    },
    {
      "cell_type": "code",
      "metadata": {
        "id": "GCDzzGmNx_Yo"
      },
      "source": [
        "def modelResnet(image_shape=(128,128)):\n",
        "    input_shape = image_shape + (3,)\n",
        "    base_model = tf.keras.applications.ResNet50(input_shape=input_shape,\n",
        "                                                   include_top=False, # <== Important!!!!\n",
        "                                                   weights='imagenet') # From imageNet\n",
        "    \n",
        "    # Freeze the base model by making it non trainable\n",
        "    base_model.trainable = False \n",
        "\n",
        "    # create the input layer (Same as the imageNetv2 input size)\n",
        "    inputs = tf.keras.Input(shape=input_shape)\n",
        "    \n",
        "    # data preprocessing using the same weights the model was trained on\n",
        "    x = preprocess_input(inputs) \n",
        "    \n",
        "    # set training to False to avoid keeping track of statistics in the batch norm layer\n",
        "    x = base_model(x, training=False) \n",
        "    \n",
        "    # Add the new Binary classification layers\n",
        "    # use global avg pooling to summarize the info in each channel\n",
        "    x = tfl.GlobalAveragePooling2D()(x) \n",
        "    #include dropout with probability of 0.2 to avoid overfitting\n",
        "    x = tfl.Dropout(0.2)(x)\n",
        "        \n",
        "    # create a prediction layer with one neuron (as a classifier only needs one)\n",
        "    prediction_layer = tfl.Dense(3,activation='softmax')\n",
        "    \n",
        "    outputs = prediction_layer(x) \n",
        "    model = tf.keras.Model(inputs, outputs)\n",
        "    \n",
        "    return model"
      ],
      "execution_count": 52,
      "outputs": []
    },
    {
      "cell_type": "code",
      "metadata": {
        "id": "9TwAcwB5x_Yp"
      },
      "source": [
        "model2 = modelResnet()"
      ],
      "execution_count": 53,
      "outputs": []
    },
    {
      "cell_type": "code",
      "metadata": {
        "id": "BTu6GjVKx_Yp"
      },
      "source": [
        "base_learning_rate = 0.01\n",
        "model2.compile(optimizer=tf.keras.optimizers.Adam(learning_rate=base_learning_rate),\n",
        "              loss=tf.keras.losses.CategoricalCrossentropy(from_logits=False),\n",
        "              metrics=['accuracy'])"
      ],
      "execution_count": 54,
      "outputs": []
    },
    {
      "cell_type": "code",
      "metadata": {
        "id": "Ck99UHprx_Yp",
        "colab": {
          "base_uri": "https://localhost:8080/"
        },
        "outputId": "ef08984b-793a-4fb5-f35d-a891249bbb91"
      },
      "source": [
        "model2.summary()"
      ],
      "execution_count": 55,
      "outputs": [
        {
          "output_type": "stream",
          "text": [
            "Model: \"model\"\n",
            "_________________________________________________________________\n",
            "Layer (type)                 Output Shape              Param #   \n",
            "=================================================================\n",
            "input_3 (InputLayer)         [(None, 128, 128, 3)]     0         \n",
            "_________________________________________________________________\n",
            "tf.__operators__.getitem (Sl (None, 128, 128, 3)       0         \n",
            "_________________________________________________________________\n",
            "tf.nn.bias_add (TFOpLambda)  (None, 128, 128, 3)       0         \n",
            "_________________________________________________________________\n",
            "resnet50 (Functional)        (None, 4, 4, 2048)        23587712  \n",
            "_________________________________________________________________\n",
            "global_average_pooling2d (Gl (None, 2048)              0         \n",
            "_________________________________________________________________\n",
            "dropout (Dropout)            (None, 2048)              0         \n",
            "_________________________________________________________________\n",
            "dense_5 (Dense)              (None, 3)                 6147      \n",
            "=================================================================\n",
            "Total params: 23,593,859\n",
            "Trainable params: 6,147\n",
            "Non-trainable params: 23,587,712\n",
            "_________________________________________________________________\n"
          ],
          "name": "stdout"
        }
      ]
    },
    {
      "cell_type": "code",
      "metadata": {
        "id": "qjpYgbkGx_Yp",
        "colab": {
          "base_uri": "https://localhost:8080/"
        },
        "outputId": "55e4a6f5-9ce6-4be2-e4ad-e03968243eea"
      },
      "source": [
        "new_model.fit(X_train, y_train, validation_data=(X_test,y_test),batch_size=20, epochs=5, verbose=1)"
      ],
      "execution_count": 56,
      "outputs": [
        {
          "output_type": "stream",
          "text": [
            "Epoch 1/5\n",
            "161/161 [==============================] - 1008s 6s/step - loss: 0.7610 - accuracy: 0.8294 - val_loss: 16760.0410 - val_accuracy: 0.8361\n",
            "Epoch 2/5\n",
            "161/161 [==============================] - 947s 6s/step - loss: 0.4511 - accuracy: 0.8384 - val_loss: 0.7294 - val_accuracy: 0.8361\n",
            "Epoch 3/5\n",
            "161/161 [==============================] - 958s 6s/step - loss: 0.4346 - accuracy: 0.8462 - val_loss: 0.7788 - val_accuracy: 0.8361\n",
            "Epoch 4/5\n",
            "161/161 [==============================] - 937s 6s/step - loss: 0.3755 - accuracy: 0.8740 - val_loss: 0.4420 - val_accuracy: 0.8380\n",
            "Epoch 5/5\n",
            "161/161 [==============================] - 948s 6s/step - loss: 0.3192 - accuracy: 0.8936 - val_loss: 0.3334 - val_accuracy: 0.8690\n"
          ],
          "name": "stdout"
        },
        {
          "output_type": "execute_result",
          "data": {
            "text/plain": [
              "<keras.callbacks.History at 0x7fd3b44a0150>"
            ]
          },
          "metadata": {},
          "execution_count": 56
        }
      ]
    },
    {
      "cell_type": "code",
      "metadata": {
        "id": "4R_KaJL-x_Yp"
      },
      "source": [
        ""
      ],
      "execution_count": null,
      "outputs": []
    }
  ]
}